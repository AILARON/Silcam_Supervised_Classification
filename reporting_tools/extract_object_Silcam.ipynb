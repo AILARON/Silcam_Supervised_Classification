{
 "cells": [
  {
   "cell_type": "markdown",
   "metadata": {},
   "source": [
    "![NTNU logo](https://qore.no/res/ntnu-logo-100.png)\n",
    "\n",
    "\n",
    "# The DL Classifier post processing and reporting tool\n",
    "\n",
    "###### Author: Aya Saad\n",
    "###### email: aya.saad@ntnu.no\n",
    "###### Project: AILARON\n",
    "###### Contact\n",
    "###### email: annette.stahl@ntnu.no\n",
    "###### funded by RCN IKTPLUSS program (project number 262741) and supported by NTNU AMOS\n",
    "###### Copyright @NTNU 2020\n",
    "---------------------------------------------------\n",
    "<!-- -->"
   ]
  },
  {
   "cell_type": "code",
   "execution_count": 1,
   "metadata": {},
   "outputs": [],
   "source": [
    "import pandas as pd\n",
    "import numpy as np\n",
    "from pathlib import Path\n",
    "import matplotlib as mpl\n",
    "import matplotlib.pyplot as plt\n",
    "import matplotlib.ticker as mticker\n",
    "import matplotlib.dates as mdates\n",
    "from mpl_toolkits.mplot3d import Axes3D\n",
    "import matplotlib.colors as colors\n",
    "import cmocean\n",
    "from matplotlib import cm\n",
    "\n",
    "from matplotlib.ticker import LinearLocator, FormatStrFormatter,PercentFormatter\n",
    "%matplotlib inline\n",
    "#%matplotlib notebook\n",
    "import os\n",
    "from datetime import datetime, timedelta\n",
    "## map plots\n",
    "import cartopy.crs as ccrs\n",
    "from cartopy.mpl.gridliner import LONGITUDE_FORMATTER, LATITUDE_FORMATTER\n",
    "import cartopy.io.img_tiles as cimgt\n",
    "\n",
    "# importing library from the SINTEF processing \n",
    "# code available at https://github.com/SINTEF/PySilCam\n",
    "import pysilcam.postprocess as scpp\n",
    "import pysilcam.plotting as scplt\n",
    "from pysilcam.config import PySilcamSettings\n",
    "\n",
    "from scipy import stats as scipystats\n",
    "\n",
    "# neptus logs library (from Andreas Våge repository)\n",
    "from dune_proc import * #load_mission_list\n",
    "from silcam_proc import *\n",
    "from plotting_tool import *"
   ]
  },
  {
   "cell_type": "code",
   "execution_count": 35,
   "metadata": {},
   "outputs": [],
   "source": [
    "#### Petridish\n",
    "datapath = \"D:/petridish/config.ini\"\n",
    "roidir = \"D:/petridish/export\"\n",
    "extdir = \"D:/petridish/ext\"\n",
    "SilCamDataPath = \"D:/petridish/proc/\"\n",
    "SilCamDataFiles = [\"RAW-STATS.csv\"]\n",
    "# location of unprocessed silc files\n",
    "RAWDIR = \"D:/petridish/RAW\"\n",
    "RAWBMP = \"D:/petridish/RAWBMP\"\n",
    "OUTPUTDIR = \"D:/petridish/proc\""
   ]
  },
  {
   "cell_type": "code",
   "execution_count": 36,
   "metadata": {
    "scrolled": true
   },
   "outputs": [
    {
     "name": "stdout",
     "output_type": "stream",
     "text": [
      "highest prob  (8487, 20)\n",
      "stat.shape after extract middle (3792, 20)\n",
      "stat.head                                   index  equivalent_diameter  \\\n",
      "timestamp                                                      \n",
      "2019-11-25 12:54:07.768417+00:00      1             7.653040   \n",
      "2019-11-25 12:54:07.768417+00:00      2             5.046265   \n",
      "2019-11-25 12:54:07.768417+00:00      4             5.170883   \n",
      "\n",
      "                                                  export name  \\\n",
      "timestamp                                                       \n",
      "2019-11-25 12:54:07.768417+00:00  D20191125T125407.768417-PN1   \n",
      "2019-11-25 12:54:07.768417+00:00  D20191125T125407.768417-PN2   \n",
      "2019-11-25 12:54:07.768417+00:00  D20191125T125407.768417-PN4   \n",
      "\n",
      "                                  major_axis_length    maxc   maxr    minc  \\\n",
      "timestamp                                                                    \n",
      "2019-11-25 12:54:07.768417+00:00          10.539051  1997.0  244.0  1987.0   \n",
      "2019-11-25 12:54:07.768417+00:00           6.286176   837.0  286.0   830.0   \n",
      "2019-11-25 12:54:07.768417+00:00           5.834113   470.0  310.0   464.0   \n",
      "\n",
      "                                  minor_axis_length   minr  particle index  \\\n",
      "timestamp                                                                    \n",
      "2019-11-25 12:54:07.768417+00:00           5.662719  236.0               1   \n",
      "2019-11-25 12:54:07.768417+00:00           4.678033  281.0               2   \n",
      "2019-11-25 12:54:07.768417+00:00           5.181018  305.0               4   \n",
      "\n",
      "                                  probability_bubble  probability_copepod  \\\n",
      "timestamp                                                                   \n",
      "2019-11-25 12:54:07.768417+00:00            0.019583             0.000402   \n",
      "2019-11-25 12:54:07.768417+00:00            0.351171             0.105802   \n",
      "2019-11-25 12:54:07.768417+00:00            0.234114             0.537819   \n",
      "\n",
      "                                  probability_diatom_chain  \\\n",
      "timestamp                                                    \n",
      "2019-11-25 12:54:07.768417+00:00                  0.000027   \n",
      "2019-11-25 12:54:07.768417+00:00                  0.007329   \n",
      "2019-11-25 12:54:07.768417+00:00                  0.004897   \n",
      "\n",
      "                                  probability_faecal_pellets  probability_oil  \\\n",
      "timestamp                                                                       \n",
      "2019-11-25 12:54:07.768417+00:00                    0.000007         0.102789   \n",
      "2019-11-25 12:54:07.768417+00:00                    0.004531         0.050064   \n",
      "2019-11-25 12:54:07.768417+00:00                    0.014076         0.106546   \n",
      "\n",
      "                                  probability_oily_gas  probability_other  \\\n",
      "timestamp                                                                   \n",
      "2019-11-25 12:54:07.768417+00:00              0.876903           0.000289   \n",
      "2019-11-25 12:54:07.768417+00:00              0.456719           0.024385   \n",
      "2019-11-25 12:54:07.768417+00:00              0.015678           0.086871   \n",
      "\n",
      "                                  saturation  solidity  highest prob  \n",
      "timestamp                                                             \n",
      "2019-11-25 12:54:07.768417+00:00    0.883416  0.884615      0.019583  \n",
      "2019-11-25 12:54:07.768417+00:00    0.883416  0.869565      0.351171  \n",
      "2019-11-25 12:54:07.768417+00:00    0.883416  0.875000      0.537819  \n",
      "(1096, 20)\n",
      "(125, 20)\n",
      "######## stat_comb ##### \n",
      "Index(['index', 'equivalent_diameter', 'export name', 'major_axis_length',\n",
      "       'maxc', 'maxr', 'minc', 'minor_axis_length', 'minr', 'particle index',\n",
      "       'probability_bubble', 'probability_copepod', 'probability_diatom_chain',\n",
      "       'probability_faecal_pellets', 'probability_oil', 'probability_oily_gas',\n",
      "       'probability_other', 'saturation', 'solidity', 'highest prob',\n",
      "       'file name', 'partind'],\n",
      "      dtype='object')\n",
      "                                  index  equivalent_diameter  \\\n",
      "timestamp                                                      \n",
      "2019-11-25 12:54:07.768417+00:00     31            55.623485   \n",
      "2019-11-25 12:54:08.678944+00:00    108            10.823033   \n",
      "2019-11-25 12:54:10.525205+00:00    202             7.136496   \n",
      "\n",
      "                                                   export name  \\\n",
      "timestamp                                                        \n",
      "2019-11-25 12:54:07.768417+00:00  D20191125T125407.768417-PN31   \n",
      "2019-11-25 12:54:08.678944+00:00  D20191125T125408.678944-PN15   \n",
      "2019-11-25 12:54:10.525205+00:00  D20191125T125410.525205-PN18   \n",
      "\n",
      "                                  major_axis_length    maxc   maxr    minc  \\\n",
      "timestamp                                                                    \n",
      "2019-11-25 12:54:07.768417+00:00          97.485605   425.0  814.0   359.0   \n",
      "2019-11-25 12:54:08.678944+00:00          14.578928   527.0  443.0   513.0   \n",
      "2019-11-25 12:54:10.525205+00:00           8.338777  1922.0  576.0  1914.0   \n",
      "\n",
      "                                  minor_axis_length   minr  particle index  \\\n",
      "timestamp                                                                    \n",
      "2019-11-25 12:54:07.768417+00:00          33.276558  733.0              31   \n",
      "2019-11-25 12:54:08.678944+00:00           8.441349  431.0              15   \n",
      "2019-11-25 12:54:10.525205+00:00           6.447852  568.0              18   \n",
      "\n",
      "                                   ...     probability_diatom_chain  \\\n",
      "timestamp                          ...                                \n",
      "2019-11-25 12:54:07.768417+00:00   ...                     0.000004   \n",
      "2019-11-25 12:54:08.678944+00:00   ...                     0.000007   \n",
      "2019-11-25 12:54:10.525205+00:00   ...                     0.000051   \n",
      "\n",
      "                                  probability_faecal_pellets  probability_oil  \\\n",
      "timestamp                                                                       \n",
      "2019-11-25 12:54:07.768417+00:00                5.605142e-07         0.000004   \n",
      "2019-11-25 12:54:08.678944+00:00                3.877624e-07         0.000175   \n",
      "2019-11-25 12:54:10.525205+00:00                1.649366e-05         0.002555   \n",
      "\n",
      "                                  probability_oily_gas  probability_other  \\\n",
      "timestamp                                                                   \n",
      "2019-11-25 12:54:07.768417+00:00          2.112066e-10       5.199983e-08   \n",
      "2019-11-25 12:54:08.678944+00:00          8.004039e-05       1.285530e-06   \n",
      "2019-11-25 12:54:10.525205+00:00          1.298754e-02       6.094121e-05   \n",
      "\n",
      "                                  saturation  solidity  highest prob  \\\n",
      "timestamp                                                              \n",
      "2019-11-25 12:54:07.768417+00:00    0.883416  0.855333      0.955116   \n",
      "2019-11-25 12:54:08.678944+00:00    0.677640  0.821429      0.999723   \n",
      "2019-11-25 12:54:10.525205+00:00    0.806897  0.851064      0.979591   \n",
      "\n",
      "                                                file name  partind  \n",
      "timestamp                                                           \n",
      "2019-11-25 12:54:07.768417+00:00  D20191125T125407.768417     PN31  \n",
      "2019-11-25 12:54:08.678944+00:00  D20191125T125408.678944     PN15  \n",
      "2019-11-25 12:54:10.525205+00:00  D20191125T125410.525205     PN18  \n",
      "\n",
      "[3 rows x 22 columns]\n",
      "stat_comb.shape  (125, 22)\n",
      "['D20191125T125407.768417', 'D20191125T125408.678944']\n"
     ]
    }
   ],
   "source": [
    "threshold = 0.95\n",
    "stat = load_silcam_data(SilCamDataFiles, SilCamDataPath)\n",
    "#stat = stat.dropna()\n",
    "stat = make_highest_prob(stat)\n",
    "print('highest prob ', stat.shape)\n",
    "stat = extract_middle(stat, [75,348, 1700, 2000])\n",
    "print('stat.shape after extract middle',stat.shape)\n",
    "print('stat.head', stat.head(3))\n",
    "stat = stat[stat['highest prob'] >= threshold]\n",
    "#stat = stat[stat['probability_copepod'] == stat['highest prob']]\n",
    "#stat = stat[stat['probability_faecal_pellets'] >= threshold]\n",
    "#stat = stat[stat['probability_diatom_chain'] == stat['highest prob']]\n",
    "#stat = stat[stat['probability_other'] >= threshold]\n",
    "stat_comb = stat_grouped(df=stat)\n",
    "#stat_comb = stat_comb.set_index('timestamp',verify_integrity=True)\n",
    "\n",
    "print(stat.shape)\n",
    "print(stat_comb.shape)\n",
    "print(\"######## stat_comb ##### \")\n",
    "stat_comb[['file name', 'partind']] = stat_comb['export name'].str.split('-',expand=True) \n",
    "print(stat_comb.columns)\n",
    "print(stat_comb.head(3))\n",
    "#stat_comb = stat_comb[(stat_comb['depth']> 1)]\n",
    "print('stat_comb.shape ',stat_comb.shape)\n",
    "#silc_to_bmp(stat_comb['file name'].tolist(), RAWDIR, RAWBMP)\n",
    "#stat_comb.to_csv(SilCamDataPath + '/stat_comb.csv', index = False, header=True)\n",
    "print(stat_comb['file name'].tolist()[:2])"
   ]
  },
  {
   "cell_type": "code",
   "execution_count": 37,
   "metadata": {},
   "outputs": [
    {
     "name": "stdout",
     "output_type": "stream",
     "text": [
      "(1096, 20)\n",
      "(1096, 20)\n",
      "inside export_name2im D20191125T125407.768417-PN31\n",
      "inside export_name2im D20191125T125408.678944-PN15\n",
      "inside export_name2im D20191125T125410.525205-PN18\n",
      "inside export_name2im D20191125T125411.869320-PN1\n"
     ]
    },
    {
     "name": "stderr",
     "output_type": "stream",
     "text": [
      "C:\\ProgramData\\anaconda3\\envs\\silcamfw\\lib\\site-packages\\skimage\\io\\_io.py:141: UserWarning: D:/petridish/ext\\D20191125T125411.869320-PN1.tiff is a low contrast image\n",
      "  warn('%s is a low contrast image' % fname)\n"
     ]
    },
    {
     "name": "stdout",
     "output_type": "stream",
     "text": [
      "inside export_name2im D20191125T125413.455488-PN2\n",
      "inside export_name2im D20191125T125415.039998-PN5\n",
      "inside export_name2im D20191125T125416.400461-PN2\n",
      "inside export_name2im D20191125T125432.891139-PN9\n",
      "inside export_name2im D20191125T125434.018229-PN6\n",
      "inside export_name2im D20191125T125434.889502-PN5\n",
      "inside export_name2im D20191125T125453.637554-PN7\n",
      "inside export_name2im D20191125T125454.289695-PN10\n",
      "inside export_name2im D20191125T125455.906403-PN1\n",
      "inside export_name2im D20191125T125617.536548-PN4\n",
      "inside export_name2im D20191125T125618.680529-PN2\n",
      "inside export_name2im D20191125T125619.850613-PN2\n",
      "inside export_name2im D20191125T125620.539822-PN0\n",
      "inside export_name2im D20191125T125621.870196-PN19\n",
      "inside export_name2im D20191125T125622.763127-PN9\n",
      "inside export_name2im D20191125T125624.129360-PN4\n",
      "inside export_name2im D20191125T125625.281483-PN1\n",
      "inside export_name2im D20191125T125634.153291-PN5\n",
      "inside export_name2im D20191125T125634.801954-PN0\n",
      "inside export_name2im D20191125T125635.450578-PN0\n",
      "inside export_name2im D20191125T125635.866842-PN2\n",
      "inside export_name2im D20191125T125636.543516-PN1\n",
      "inside export_name2im D20191125T125637.160521-PN6\n",
      "inside export_name2im D20191125T125644.711687-PN5\n",
      "inside export_name2im D20191125T125645.350178-PN3\n",
      "inside export_name2im D20191125T125646.693181-PN8\n",
      "inside export_name2im D20191125T125647.114662-PN16\n",
      "inside export_name2im D20191125T125648.029328-PN6\n",
      "inside export_name2im D20191125T125648.478616-PN7\n",
      "inside export_name2im D20191125T125652.423412-PN20\n",
      "inside export_name2im D20191125T125654.229982-PN10\n",
      "inside export_name2im D20191125T125656.969291-PN9\n",
      "inside export_name2im D20191125T125658.361445-PN2\n",
      "inside export_name2im D20191125T125700.395411-PN12\n",
      "inside export_name2im D20191125T125701.048633-PN2\n",
      "inside export_name2im D20191125T125701.698599-PN5\n",
      "inside export_name2im D20191125T125702.630000-PN15\n",
      "inside export_name2im D20191125T125703.044645-PN10\n",
      "inside export_name2im D20191125T125703.963334-PN0\n",
      "inside export_name2im D20191125T125705.342720-PN0\n",
      "inside export_name2im D20191125T125712.655994-PN5\n",
      "inside export_name2im D20191125T125713.060316-PN2\n",
      "inside export_name2im D20191125T125714.907117-PN0\n",
      "inside export_name2im D20191125T125743.949669-PN13\n",
      "inside export_name2im D20191125T125745.324058-PN3\n",
      "inside export_name2im D20191125T125746.693148-PN2\n",
      "inside export_name2im D20191125T125748.061232-PN2\n",
      "inside export_name2im D20191125T125749.184613-PN2\n",
      "inside export_name2im D20191125T125750.126097-PN0\n",
      "inside export_name2im D20191125T125751.063599-PN2\n",
      "inside export_name2im D20191125T125752.933600-PN14\n",
      "inside export_name2im D20191125T125753.862766-PN2\n",
      "inside export_name2im D20191125T125754.733453-PN2\n",
      "inside export_name2im D20191125T125755.606911-PN1\n",
      "inside export_name2im D20191125T125827.613452-PN6\n",
      "inside export_name2im D20191125T125828.259182-PN6\n",
      "inside export_name2im D20191125T125828.907082-PN5\n",
      "inside export_name2im D20191125T125829.790517-PN5\n",
      "inside export_name2im D20191125T125831.418234-PN5\n",
      "inside export_name2im D20191125T125832.797221-PN2\n",
      "inside export_name2im D20191125T125833.227649-PN11\n",
      "inside export_name2im D20191125T125834.582215-PN2\n",
      "inside export_name2im D20191125T125837.171144-PN0\n",
      "inside export_name2im D20191125T125839.528300-PN80\n",
      "inside export_name2im D20191125T125842.295962-PN20\n"
     ]
    },
    {
     "name": "stderr",
     "output_type": "stream",
     "text": [
      "C:\\ProgramData\\anaconda3\\envs\\silcamfw\\lib\\site-packages\\skimage\\io\\_io.py:141: UserWarning: D:/petridish/ext\\D20191125T125842.295962-PN20.tiff is a low contrast image\n",
      "  warn('%s is a low contrast image' % fname)\n"
     ]
    },
    {
     "name": "stdout",
     "output_type": "stream",
     "text": [
      "inside export_name2im D20191125T125846.037451-PN5\n",
      "inside export_name2im D20191125T125846.459684-PN5\n",
      "inside export_name2im D20191125T125851.615224-PN3\n",
      "inside export_name2im D20191125T125855.362121-PN7\n",
      "inside export_name2im D20191125T125858.403763-PN0\n",
      "inside export_name2im D20191125T125910.273564-PN2\n",
      "inside export_name2im D20191125T125910.706289-PN2\n",
      "inside export_name2im D20191125T125911.604894-PN5\n",
      "inside export_name2im D20191125T125912.041368-PN1\n",
      "inside export_name2im D20191125T125912.707178-PN4\n",
      "inside export_name2im D20191125T125913.165354-PN7\n",
      "inside export_name2im D20191125T125913.611502-PN5\n",
      "inside export_name2im D20191125T125915.700055-PN8\n",
      "inside export_name2im D20191125T125916.811958-PN12\n",
      "inside export_name2im D20191125T125917.933780-PN3\n",
      "inside export_name2im D20191125T125919.085158-PN0\n",
      "inside export_name2im D20191125T125921.203083-PN0\n",
      "inside export_name2im D20191125T125921.651290-PN7\n"
     ]
    },
    {
     "name": "stderr",
     "output_type": "stream",
     "text": [
      "C:\\ProgramData\\anaconda3\\envs\\silcamfw\\lib\\site-packages\\skimage\\io\\_io.py:141: UserWarning: D:/petridish/ext\\D20191125T125921.651290-PN7.tiff is a low contrast image\n",
      "  warn('%s is a low contrast image' % fname)\n"
     ]
    },
    {
     "name": "stdout",
     "output_type": "stream",
     "text": [
      "inside export_name2im D20191125T125923.009277-PN6\n",
      "inside export_name2im D20191125T125923.887038-PN1\n",
      "inside export_name2im D20191125T125925.248560-PN0\n",
      "inside export_name2im D20191125T125927.111268-PN8\n",
      "inside export_name2im D20191125T125927.756743-PN3\n",
      "inside export_name2im D20191125T125930.277385-PN0\n",
      "inside export_name2im D20191125T125941.949314-PN13\n",
      "inside export_name2im D20191125T125943.794134-PN8\n",
      "inside export_name2im D20191125T125944.929349-PN1\n",
      "inside export_name2im D20191125T125946.283731-PN2\n",
      "inside export_name2im D20191125T125949.055407-PN0\n",
      "inside export_name2im D20191125T125951.177826-PN32\n",
      "inside export_name2im D20191125T130002.911423-PN0\n",
      "inside export_name2im D20191125T130010.634094-PN10\n",
      "inside export_name2im D20191125T130011.292276-PN0\n",
      "inside export_name2im D20191125T130011.944204-PN1\n",
      "inside export_name2im D20191125T130012.367154-PN1\n",
      "inside export_name2im D20191125T130012.788307-PN0\n",
      "inside export_name2im D20191125T130013.196780-PN0\n",
      "inside export_name2im D20191125T130013.848005-PN1\n",
      "inside export_name2im D20191125T130014.430322-PN6\n",
      "inside export_name2im D20191125T130015.070029-PN0\n",
      "inside export_name2im D20191125T130015.704656-PN1\n",
      "inside export_name2im D20191125T130021.046592-PN12\n",
      "inside export_name2im D20191125T130021.511633-PN4\n",
      "inside export_name2im D20191125T130022.873357-PN1\n",
      "inside export_name2im D20191125T130023.517021-PN0\n",
      "inside export_name2im D20191125T130024.624629-PN1\n",
      "inside export_name2im D20191125T130025.041656-PN4\n",
      "inside export_name2im D20191125T130026.865472-PN6\n",
      "inside export_name2im D20191125T130028.454714-PN0\n",
      "inside export_name2im D20191125T130029.574682-PN20\n",
      "inside export_name2im D20191125T130029.992956-PN7\n",
      "inside export_name2im D20191125T130030.415661-PN4\n",
      "inside export_name2im D20191125T130030.824503-PN0\n",
      "inside export_name2im D20191125T130032.396798-PN0\n",
      "inside export_name2im D20191125T130032.843406-PN0\n",
      "inside export_name2im D20191125T130033.433702-PN4\n",
      "(445, 20)\n",
      "inside export_name2im D20191125T125407.768417-PN31\n",
      "inside export_name2im D20191125T125407.768417-PN34\n"
     ]
    },
    {
     "name": "stderr",
     "output_type": "stream",
     "text": [
      "C:\\ProgramData\\anaconda3\\envs\\silcamfw\\lib\\site-packages\\skimage\\io\\_io.py:141: UserWarning: D:/petridish/ext\\D20191125T125407.768417-PN34.tiff is a low contrast image\n",
      "  warn('%s is a low contrast image' % fname)\n"
     ]
    },
    {
     "name": "stdout",
     "output_type": "stream",
     "text": [
      "inside export_name2im D20191125T125407.768417-PN36\n",
      "inside export_name2im D20191125T125407.768417-PN41\n"
     ]
    },
    {
     "name": "stderr",
     "output_type": "stream",
     "text": [
      "C:\\ProgramData\\anaconda3\\envs\\silcamfw\\lib\\site-packages\\skimage\\io\\_io.py:141: UserWarning: D:/petridish/ext\\D20191125T125407.768417-PN41.tiff is a low contrast image\n",
      "  warn('%s is a low contrast image' % fname)\n"
     ]
    },
    {
     "name": "stdout",
     "output_type": "stream",
     "text": [
      "inside export_name2im D20191125T125407.768417-PN59\n"
     ]
    },
    {
     "name": "stderr",
     "output_type": "stream",
     "text": [
      "C:\\ProgramData\\anaconda3\\envs\\silcamfw\\lib\\site-packages\\skimage\\io\\_io.py:141: UserWarning: D:/petridish/ext\\D20191125T125407.768417-PN59.tiff is a low contrast image\n",
      "  warn('%s is a low contrast image' % fname)\n"
     ]
    },
    {
     "name": "stdout",
     "output_type": "stream",
     "text": [
      "inside export_name2im D20191125T125407.768417-PN61\n",
      "inside export_name2im D20191125T125407.768417-PN76\n"
     ]
    },
    {
     "name": "stderr",
     "output_type": "stream",
     "text": [
      "C:\\ProgramData\\anaconda3\\envs\\silcamfw\\lib\\site-packages\\skimage\\io\\_io.py:141: UserWarning: D:/petridish/ext\\D20191125T125407.768417-PN76.tiff is a low contrast image\n",
      "  warn('%s is a low contrast image' % fname)\n"
     ]
    },
    {
     "name": "stdout",
     "output_type": "stream",
     "text": [
      "inside export_name2im D20191125T125407.768417-PN85\n",
      "inside export_name2im D20191125T125411.869320-PN1\n"
     ]
    },
    {
     "name": "stderr",
     "output_type": "stream",
     "text": [
      "C:\\ProgramData\\anaconda3\\envs\\silcamfw\\lib\\site-packages\\skimage\\io\\_io.py:141: UserWarning: D:/petridish/ext\\D20191125T125411.869320-PN1.tiff is a low contrast image\n",
      "  warn('%s is a low contrast image' % fname)\n"
     ]
    },
    {
     "name": "stdout",
     "output_type": "stream",
     "text": [
      "inside export_name2im D20191125T125411.869320-PN12\n"
     ]
    },
    {
     "name": "stderr",
     "output_type": "stream",
     "text": [
      "C:\\ProgramData\\anaconda3\\envs\\silcamfw\\lib\\site-packages\\skimage\\io\\_io.py:141: UserWarning: D:/petridish/ext\\D20191125T125411.869320-PN12.tiff is a low contrast image\n",
      "  warn('%s is a low contrast image' % fname)\n"
     ]
    },
    {
     "name": "stdout",
     "output_type": "stream",
     "text": [
      "inside export_name2im D20191125T125411.869320-PN13\n",
      "inside export_name2im D20191125T125411.869320-PN21\n"
     ]
    },
    {
     "name": "stderr",
     "output_type": "stream",
     "text": [
      "C:\\ProgramData\\anaconda3\\envs\\silcamfw\\lib\\site-packages\\skimage\\io\\_io.py:141: UserWarning: D:/petridish/ext\\D20191125T125411.869320-PN21.tiff is a low contrast image\n",
      "  warn('%s is a low contrast image' % fname)\n"
     ]
    },
    {
     "name": "stdout",
     "output_type": "stream",
     "text": [
      "inside export_name2im D20191125T125411.869320-PN32\n"
     ]
    },
    {
     "name": "stderr",
     "output_type": "stream",
     "text": [
      "C:\\ProgramData\\anaconda3\\envs\\silcamfw\\lib\\site-packages\\skimage\\io\\_io.py:141: UserWarning: D:/petridish/ext\\D20191125T125411.869320-PN32.tiff is a low contrast image\n",
      "  warn('%s is a low contrast image' % fname)\n"
     ]
    },
    {
     "name": "stdout",
     "output_type": "stream",
     "text": [
      "inside export_name2im D20191125T125411.869320-PN35\n",
      "inside export_name2im D20191125T125411.869320-PN37\n",
      "inside export_name2im D20191125T125411.869320-PN38\n"
     ]
    },
    {
     "name": "stderr",
     "output_type": "stream",
     "text": [
      "C:\\ProgramData\\anaconda3\\envs\\silcamfw\\lib\\site-packages\\skimage\\io\\_io.py:141: UserWarning: D:/petridish/ext\\D20191125T125411.869320-PN38.tiff is a low contrast image\n",
      "  warn('%s is a low contrast image' % fname)\n"
     ]
    },
    {
     "name": "stdout",
     "output_type": "stream",
     "text": [
      "inside export_name2im D20191125T125411.869320-PN47\n"
     ]
    },
    {
     "name": "stderr",
     "output_type": "stream",
     "text": [
      "C:\\ProgramData\\anaconda3\\envs\\silcamfw\\lib\\site-packages\\skimage\\io\\_io.py:141: UserWarning: D:/petridish/ext\\D20191125T125411.869320-PN47.tiff is a low contrast image\n",
      "  warn('%s is a low contrast image' % fname)\n"
     ]
    },
    {
     "name": "stdout",
     "output_type": "stream",
     "text": [
      "inside export_name2im D20191125T125411.869320-PN52\n"
     ]
    },
    {
     "name": "stderr",
     "output_type": "stream",
     "text": [
      "C:\\ProgramData\\anaconda3\\envs\\silcamfw\\lib\\site-packages\\skimage\\io\\_io.py:141: UserWarning: D:/petridish/ext\\D20191125T125411.869320-PN52.tiff is a low contrast image\n",
      "  warn('%s is a low contrast image' % fname)\n"
     ]
    },
    {
     "name": "stdout",
     "output_type": "stream",
     "text": [
      "inside export_name2im D20191125T125411.869320-PN59\n"
     ]
    },
    {
     "name": "stderr",
     "output_type": "stream",
     "text": [
      "C:\\ProgramData\\anaconda3\\envs\\silcamfw\\lib\\site-packages\\skimage\\io\\_io.py:141: UserWarning: D:/petridish/ext\\D20191125T125411.869320-PN59.tiff is a low contrast image\n",
      "  warn('%s is a low contrast image' % fname)\n"
     ]
    },
    {
     "name": "stdout",
     "output_type": "stream",
     "text": [
      "inside export_name2im D20191125T125411.869320-PN80\n"
     ]
    },
    {
     "name": "stderr",
     "output_type": "stream",
     "text": [
      "C:\\ProgramData\\anaconda3\\envs\\silcamfw\\lib\\site-packages\\skimage\\io\\_io.py:141: UserWarning: D:/petridish/ext\\D20191125T125411.869320-PN80.tiff is a low contrast image\n",
      "  warn('%s is a low contrast image' % fname)\n"
     ]
    },
    {
     "name": "stdout",
     "output_type": "stream",
     "text": [
      "inside export_name2im D20191125T125411.869320-PN85\n"
     ]
    },
    {
     "name": "stderr",
     "output_type": "stream",
     "text": [
      "C:\\ProgramData\\anaconda3\\envs\\silcamfw\\lib\\site-packages\\skimage\\io\\_io.py:141: UserWarning: D:/petridish/ext\\D20191125T125411.869320-PN85.tiff is a low contrast image\n",
      "  warn('%s is a low contrast image' % fname)\n"
     ]
    },
    {
     "name": "stdout",
     "output_type": "stream",
     "text": [
      "inside export_name2im D20191125T125411.869320-PN88\n"
     ]
    },
    {
     "name": "stderr",
     "output_type": "stream",
     "text": [
      "C:\\ProgramData\\anaconda3\\envs\\silcamfw\\lib\\site-packages\\skimage\\io\\_io.py:141: UserWarning: D:/petridish/ext\\D20191125T125411.869320-PN88.tiff is a low contrast image\n",
      "  warn('%s is a low contrast image' % fname)\n"
     ]
    },
    {
     "name": "stdout",
     "output_type": "stream",
     "text": [
      "inside export_name2im D20191125T125434.018229-PN6\n",
      "inside export_name2im D20191125T125434.018229-PN8\n"
     ]
    },
    {
     "name": "stderr",
     "output_type": "stream",
     "text": [
      "C:\\ProgramData\\anaconda3\\envs\\silcamfw\\lib\\site-packages\\skimage\\io\\_io.py:141: UserWarning: D:/petridish/ext\\D20191125T125434.018229-PN8.tiff is a low contrast image\n",
      "  warn('%s is a low contrast image' % fname)\n"
     ]
    },
    {
     "name": "stdout",
     "output_type": "stream",
     "text": [
      "inside export_name2im D20191125T125434.018229-PN9\n"
     ]
    },
    {
     "name": "stderr",
     "output_type": "stream",
     "text": [
      "C:\\ProgramData\\anaconda3\\envs\\silcamfw\\lib\\site-packages\\skimage\\io\\_io.py:141: UserWarning: D:/petridish/ext\\D20191125T125434.018229-PN9.tiff is a low contrast image\n",
      "  warn('%s is a low contrast image' % fname)\n"
     ]
    },
    {
     "name": "stdout",
     "output_type": "stream",
     "text": [
      "inside export_name2im D20191125T125434.018229-PN12\n",
      "inside export_name2im D20191125T125434.018229-PN13\n"
     ]
    },
    {
     "name": "stderr",
     "output_type": "stream",
     "text": [
      "C:\\ProgramData\\anaconda3\\envs\\silcamfw\\lib\\site-packages\\skimage\\io\\_io.py:141: UserWarning: D:/petridish/ext\\D20191125T125434.018229-PN13.tiff is a low contrast image\n",
      "  warn('%s is a low contrast image' % fname)\n"
     ]
    },
    {
     "name": "stdout",
     "output_type": "stream",
     "text": [
      "inside export_name2im D20191125T125434.018229-PN19\n"
     ]
    },
    {
     "name": "stderr",
     "output_type": "stream",
     "text": [
      "C:\\ProgramData\\anaconda3\\envs\\silcamfw\\lib\\site-packages\\skimage\\io\\_io.py:141: UserWarning: D:/petridish/ext\\D20191125T125434.018229-PN19.tiff is a low contrast image\n",
      "  warn('%s is a low contrast image' % fname)\n"
     ]
    },
    {
     "name": "stdout",
     "output_type": "stream",
     "text": [
      "inside export_name2im D20191125T125434.018229-PN30\n",
      "inside export_name2im D20191125T125434.018229-PN31\n",
      "inside export_name2im D20191125T125434.018229-PN32\n"
     ]
    },
    {
     "name": "stderr",
     "output_type": "stream",
     "text": [
      "C:\\ProgramData\\anaconda3\\envs\\silcamfw\\lib\\site-packages\\skimage\\io\\_io.py:141: UserWarning: D:/petridish/ext\\D20191125T125434.018229-PN32.tiff is a low contrast image\n",
      "  warn('%s is a low contrast image' % fname)\n"
     ]
    },
    {
     "name": "stdout",
     "output_type": "stream",
     "text": [
      "inside export_name2im D20191125T125434.018229-PN43\n"
     ]
    },
    {
     "name": "stderr",
     "output_type": "stream",
     "text": [
      "C:\\ProgramData\\anaconda3\\envs\\silcamfw\\lib\\site-packages\\skimage\\io\\_io.py:141: UserWarning: D:/petridish/ext\\D20191125T125434.018229-PN43.tiff is a low contrast image\n",
      "  warn('%s is a low contrast image' % fname)\n"
     ]
    },
    {
     "name": "stdout",
     "output_type": "stream",
     "text": [
      "inside export_name2im D20191125T125434.018229-PN47\n"
     ]
    },
    {
     "name": "stderr",
     "output_type": "stream",
     "text": [
      "C:\\ProgramData\\anaconda3\\envs\\silcamfw\\lib\\site-packages\\skimage\\io\\_io.py:141: UserWarning: D:/petridish/ext\\D20191125T125434.018229-PN47.tiff is a low contrast image\n",
      "  warn('%s is a low contrast image' % fname)\n"
     ]
    },
    {
     "name": "stdout",
     "output_type": "stream",
     "text": [
      "inside export_name2im D20191125T125434.018229-PN48\n",
      "inside export_name2im D20191125T125434.018229-PN58\n",
      "inside export_name2im D20191125T125434.018229-PN76\n",
      "inside export_name2im D20191125T125434.889502-PN5\n",
      "inside export_name2im D20191125T125434.889502-PN13\n"
     ]
    },
    {
     "name": "stderr",
     "output_type": "stream",
     "text": [
      "C:\\ProgramData\\anaconda3\\envs\\silcamfw\\lib\\site-packages\\skimage\\io\\_io.py:141: UserWarning: D:/petridish/ext\\D20191125T125434.889502-PN13.tiff is a low contrast image\n",
      "  warn('%s is a low contrast image' % fname)\n"
     ]
    },
    {
     "name": "stdout",
     "output_type": "stream",
     "text": [
      "inside export_name2im D20191125T125434.889502-PN14\n"
     ]
    },
    {
     "name": "stderr",
     "output_type": "stream",
     "text": [
      "C:\\ProgramData\\anaconda3\\envs\\silcamfw\\lib\\site-packages\\skimage\\io\\_io.py:141: UserWarning: D:/petridish/ext\\D20191125T125434.889502-PN14.tiff is a low contrast image\n",
      "  warn('%s is a low contrast image' % fname)\n"
     ]
    },
    {
     "name": "stdout",
     "output_type": "stream",
     "text": [
      "inside export_name2im D20191125T125434.889502-PN17\n"
     ]
    },
    {
     "name": "stderr",
     "output_type": "stream",
     "text": [
      "C:\\ProgramData\\anaconda3\\envs\\silcamfw\\lib\\site-packages\\skimage\\io\\_io.py:141: UserWarning: D:/petridish/ext\\D20191125T125434.889502-PN17.tiff is a low contrast image\n",
      "  warn('%s is a low contrast image' % fname)\n"
     ]
    },
    {
     "name": "stdout",
     "output_type": "stream",
     "text": [
      "inside export_name2im D20191125T125434.889502-PN19\n",
      "inside export_name2im D20191125T125434.889502-PN27\n"
     ]
    },
    {
     "name": "stderr",
     "output_type": "stream",
     "text": [
      "C:\\ProgramData\\anaconda3\\envs\\silcamfw\\lib\\site-packages\\skimage\\io\\_io.py:141: UserWarning: D:/petridish/ext\\D20191125T125434.889502-PN27.tiff is a low contrast image\n",
      "  warn('%s is a low contrast image' % fname)\n"
     ]
    },
    {
     "name": "stdout",
     "output_type": "stream",
     "text": [
      "inside export_name2im D20191125T125434.889502-PN28\n"
     ]
    },
    {
     "name": "stderr",
     "output_type": "stream",
     "text": [
      "C:\\ProgramData\\anaconda3\\envs\\silcamfw\\lib\\site-packages\\skimage\\io\\_io.py:141: UserWarning: D:/petridish/ext\\D20191125T125434.889502-PN28.tiff is a low contrast image\n",
      "  warn('%s is a low contrast image' % fname)\n"
     ]
    },
    {
     "name": "stdout",
     "output_type": "stream",
     "text": [
      "inside export_name2im D20191125T125434.889502-PN30\n",
      "inside export_name2im D20191125T125434.889502-PN31\n"
     ]
    },
    {
     "name": "stderr",
     "output_type": "stream",
     "text": [
      "C:\\ProgramData\\anaconda3\\envs\\silcamfw\\lib\\site-packages\\skimage\\io\\_io.py:141: UserWarning: D:/petridish/ext\\D20191125T125434.889502-PN31.tiff is a low contrast image\n",
      "  warn('%s is a low contrast image' % fname)\n"
     ]
    },
    {
     "name": "stdout",
     "output_type": "stream",
     "text": [
      "inside export_name2im D20191125T125434.889502-PN32\n"
     ]
    },
    {
     "name": "stderr",
     "output_type": "stream",
     "text": [
      "C:\\ProgramData\\anaconda3\\envs\\silcamfw\\lib\\site-packages\\skimage\\io\\_io.py:141: UserWarning: D:/petridish/ext\\D20191125T125434.889502-PN32.tiff is a low contrast image\n",
      "  warn('%s is a low contrast image' % fname)\n"
     ]
    },
    {
     "name": "stdout",
     "output_type": "stream",
     "text": [
      "inside export_name2im D20191125T125434.889502-PN35\n"
     ]
    },
    {
     "name": "stderr",
     "output_type": "stream",
     "text": [
      "C:\\ProgramData\\anaconda3\\envs\\silcamfw\\lib\\site-packages\\skimage\\io\\_io.py:141: UserWarning: D:/petridish/ext\\D20191125T125434.889502-PN35.tiff is a low contrast image\n",
      "  warn('%s is a low contrast image' % fname)\n"
     ]
    },
    {
     "name": "stdout",
     "output_type": "stream",
     "text": [
      "inside export_name2im D20191125T125434.889502-PN37\n",
      "inside export_name2im D20191125T125434.889502-PN43\n",
      "inside export_name2im D20191125T125434.889502-PN46\n"
     ]
    },
    {
     "name": "stderr",
     "output_type": "stream",
     "text": [
      "C:\\ProgramData\\anaconda3\\envs\\silcamfw\\lib\\site-packages\\skimage\\io\\_io.py:141: UserWarning: D:/petridish/ext\\D20191125T125434.889502-PN46.tiff is a low contrast image\n",
      "  warn('%s is a low contrast image' % fname)\n"
     ]
    },
    {
     "name": "stdout",
     "output_type": "stream",
     "text": [
      "inside export_name2im D20191125T125434.889502-PN48\n"
     ]
    },
    {
     "name": "stderr",
     "output_type": "stream",
     "text": [
      "C:\\ProgramData\\anaconda3\\envs\\silcamfw\\lib\\site-packages\\skimage\\io\\_io.py:141: UserWarning: D:/petridish/ext\\D20191125T125434.889502-PN48.tiff is a low contrast image\n",
      "  warn('%s is a low contrast image' % fname)\n"
     ]
    },
    {
     "name": "stdout",
     "output_type": "stream",
     "text": [
      "inside export_name2im D20191125T125434.889502-PN49\n",
      "inside export_name2im D20191125T125434.889502-PN57\n"
     ]
    },
    {
     "name": "stderr",
     "output_type": "stream",
     "text": [
      "C:\\ProgramData\\anaconda3\\envs\\silcamfw\\lib\\site-packages\\skimage\\io\\_io.py:141: UserWarning: D:/petridish/ext\\D20191125T125434.889502-PN57.tiff is a low contrast image\n",
      "  warn('%s is a low contrast image' % fname)\n"
     ]
    },
    {
     "name": "stdout",
     "output_type": "stream",
     "text": [
      "inside export_name2im D20191125T125434.889502-PN70\n"
     ]
    },
    {
     "name": "stderr",
     "output_type": "stream",
     "text": [
      "C:\\ProgramData\\anaconda3\\envs\\silcamfw\\lib\\site-packages\\skimage\\io\\_io.py:141: UserWarning: D:/petridish/ext\\D20191125T125434.889502-PN70.tiff is a low contrast image\n",
      "  warn('%s is a low contrast image' % fname)\n"
     ]
    },
    {
     "name": "stdout",
     "output_type": "stream",
     "text": [
      "inside export_name2im D20191125T125434.889502-PN80\n",
      "inside export_name2im D20191125T125434.889502-PN87\n",
      "inside export_name2im D20191125T125453.637554-PN7\n",
      "inside export_name2im D20191125T125453.637554-PN9\n"
     ]
    },
    {
     "name": "stderr",
     "output_type": "stream",
     "text": [
      "C:\\ProgramData\\anaconda3\\envs\\silcamfw\\lib\\site-packages\\skimage\\io\\_io.py:141: UserWarning: D:/petridish/ext\\D20191125T125453.637554-PN9.tiff is a low contrast image\n",
      "  warn('%s is a low contrast image' % fname)\n"
     ]
    },
    {
     "name": "stdout",
     "output_type": "stream",
     "text": [
      "inside export_name2im D20191125T125453.637554-PN32\n",
      "inside export_name2im D20191125T125453.637554-PN33\n"
     ]
    },
    {
     "name": "stderr",
     "output_type": "stream",
     "text": [
      "C:\\ProgramData\\anaconda3\\envs\\silcamfw\\lib\\site-packages\\skimage\\io\\_io.py:141: UserWarning: D:/petridish/ext\\D20191125T125453.637554-PN33.tiff is a low contrast image\n",
      "  warn('%s is a low contrast image' % fname)\n"
     ]
    },
    {
     "name": "stdout",
     "output_type": "stream",
     "text": [
      "inside export_name2im D20191125T125454.289695-PN10\n",
      "inside export_name2im D20191125T125454.289695-PN28\n",
      "inside export_name2im D20191125T125454.289695-PN29\n"
     ]
    },
    {
     "name": "stderr",
     "output_type": "stream",
     "text": [
      "C:\\ProgramData\\anaconda3\\envs\\silcamfw\\lib\\site-packages\\skimage\\io\\_io.py:141: UserWarning: D:/petridish/ext\\D20191125T125454.289695-PN29.tiff is a low contrast image\n",
      "  warn('%s is a low contrast image' % fname)\n"
     ]
    },
    {
     "name": "stdout",
     "output_type": "stream",
     "text": [
      "inside export_name2im D20191125T125617.536548-PN4\n",
      "inside export_name2im D20191125T125617.536548-PN19\n",
      "inside export_name2im D20191125T125617.536548-PN25\n"
     ]
    },
    {
     "name": "stderr",
     "output_type": "stream",
     "text": [
      "C:\\ProgramData\\anaconda3\\envs\\silcamfw\\lib\\site-packages\\skimage\\io\\_io.py:141: UserWarning: D:/petridish/ext\\D20191125T125617.536548-PN25.tiff is a low contrast image\n",
      "  warn('%s is a low contrast image' % fname)\n"
     ]
    },
    {
     "name": "stdout",
     "output_type": "stream",
     "text": [
      "inside export_name2im D20191125T125617.536548-PN29\n",
      "inside export_name2im D20191125T125617.536548-PN45\n",
      "inside export_name2im D20191125T125617.536548-PN49\n"
     ]
    },
    {
     "name": "stderr",
     "output_type": "stream",
     "text": [
      "C:\\ProgramData\\anaconda3\\envs\\silcamfw\\lib\\site-packages\\skimage\\io\\_io.py:141: UserWarning: D:/petridish/ext\\D20191125T125617.536548-PN49.tiff is a low contrast image\n",
      "  warn('%s is a low contrast image' % fname)\n"
     ]
    },
    {
     "name": "stdout",
     "output_type": "stream",
     "text": [
      "inside export_name2im D20191125T125617.536548-PN51\n",
      "inside export_name2im D20191125T125617.536548-PN57\n",
      "inside export_name2im D20191125T125618.680529-PN2\n",
      "inside export_name2im D20191125T125618.680529-PN6\n"
     ]
    },
    {
     "name": "stderr",
     "output_type": "stream",
     "text": [
      "C:\\ProgramData\\anaconda3\\envs\\silcamfw\\lib\\site-packages\\skimage\\io\\_io.py:141: UserWarning: D:/petridish/ext\\D20191125T125618.680529-PN6.tiff is a low contrast image\n",
      "  warn('%s is a low contrast image' % fname)\n"
     ]
    },
    {
     "name": "stdout",
     "output_type": "stream",
     "text": [
      "inside export_name2im D20191125T125618.680529-PN34\n"
     ]
    },
    {
     "name": "stderr",
     "output_type": "stream",
     "text": [
      "C:\\ProgramData\\anaconda3\\envs\\silcamfw\\lib\\site-packages\\skimage\\io\\_io.py:141: UserWarning: D:/petridish/ext\\D20191125T125618.680529-PN34.tiff is a low contrast image\n",
      "  warn('%s is a low contrast image' % fname)\n"
     ]
    },
    {
     "name": "stdout",
     "output_type": "stream",
     "text": [
      "inside export_name2im D20191125T125618.680529-PN35\n",
      "inside export_name2im D20191125T125618.680529-PN51\n"
     ]
    },
    {
     "name": "stderr",
     "output_type": "stream",
     "text": [
      "C:\\ProgramData\\anaconda3\\envs\\silcamfw\\lib\\site-packages\\skimage\\io\\_io.py:141: UserWarning: D:/petridish/ext\\D20191125T125618.680529-PN51.tiff is a low contrast image\n",
      "  warn('%s is a low contrast image' % fname)\n"
     ]
    },
    {
     "name": "stdout",
     "output_type": "stream",
     "text": [
      "inside export_name2im D20191125T125618.680529-PN61\n",
      "inside export_name2im D20191125T125620.539822-PN0\n",
      "inside export_name2im D20191125T125620.539822-PN8\n"
     ]
    },
    {
     "name": "stderr",
     "output_type": "stream",
     "text": [
      "C:\\ProgramData\\anaconda3\\envs\\silcamfw\\lib\\site-packages\\skimage\\io\\_io.py:141: UserWarning: D:/petridish/ext\\D20191125T125620.539822-PN8.tiff is a low contrast image\n",
      "  warn('%s is a low contrast image' % fname)\n"
     ]
    },
    {
     "name": "stdout",
     "output_type": "stream",
     "text": [
      "inside export_name2im D20191125T125620.539822-PN19\n",
      "inside export_name2im D20191125T125620.539822-PN24\n",
      "inside export_name2im D20191125T125620.539822-PN29\n"
     ]
    },
    {
     "name": "stderr",
     "output_type": "stream",
     "text": [
      "C:\\ProgramData\\anaconda3\\envs\\silcamfw\\lib\\site-packages\\skimage\\io\\_io.py:141: UserWarning: D:/petridish/ext\\D20191125T125620.539822-PN29.tiff is a low contrast image\n",
      "  warn('%s is a low contrast image' % fname)\n"
     ]
    },
    {
     "name": "stdout",
     "output_type": "stream",
     "text": [
      "inside export_name2im D20191125T125620.539822-PN32\n"
     ]
    },
    {
     "name": "stderr",
     "output_type": "stream",
     "text": [
      "C:\\ProgramData\\anaconda3\\envs\\silcamfw\\lib\\site-packages\\skimage\\io\\_io.py:141: UserWarning: D:/petridish/ext\\D20191125T125620.539822-PN32.tiff is a low contrast image\n",
      "  warn('%s is a low contrast image' % fname)\n"
     ]
    },
    {
     "name": "stdout",
     "output_type": "stream",
     "text": [
      "inside export_name2im D20191125T125620.539822-PN37\n"
     ]
    },
    {
     "name": "stderr",
     "output_type": "stream",
     "text": [
      "C:\\ProgramData\\anaconda3\\envs\\silcamfw\\lib\\site-packages\\skimage\\io\\_io.py:141: UserWarning: D:/petridish/ext\\D20191125T125620.539822-PN37.tiff is a low contrast image\n",
      "  warn('%s is a low contrast image' % fname)\n"
     ]
    },
    {
     "name": "stdout",
     "output_type": "stream",
     "text": [
      "inside export_name2im D20191125T125620.539822-PN42\n"
     ]
    },
    {
     "name": "stderr",
     "output_type": "stream",
     "text": [
      "C:\\ProgramData\\anaconda3\\envs\\silcamfw\\lib\\site-packages\\skimage\\io\\_io.py:141: UserWarning: D:/petridish/ext\\D20191125T125620.539822-PN42.tiff is a low contrast image\n",
      "  warn('%s is a low contrast image' % fname)\n"
     ]
    },
    {
     "name": "stdout",
     "output_type": "stream",
     "text": [
      "inside export_name2im D20191125T125621.870196-PN19\n",
      "inside export_name2im D20191125T125621.870196-PN22\n",
      "inside export_name2im D20191125T125621.870196-PN23\n"
     ]
    },
    {
     "name": "stderr",
     "output_type": "stream",
     "text": [
      "C:\\ProgramData\\anaconda3\\envs\\silcamfw\\lib\\site-packages\\skimage\\io\\_io.py:141: UserWarning: D:/petridish/ext\\D20191125T125621.870196-PN23.tiff is a low contrast image\n",
      "  warn('%s is a low contrast image' % fname)\n"
     ]
    },
    {
     "name": "stdout",
     "output_type": "stream",
     "text": [
      "inside export_name2im D20191125T125621.870196-PN24\n"
     ]
    },
    {
     "name": "stderr",
     "output_type": "stream",
     "text": [
      "C:\\ProgramData\\anaconda3\\envs\\silcamfw\\lib\\site-packages\\skimage\\io\\_io.py:141: UserWarning: D:/petridish/ext\\D20191125T125621.870196-PN24.tiff is a low contrast image\n",
      "  warn('%s is a low contrast image' % fname)\n"
     ]
    },
    {
     "name": "stdout",
     "output_type": "stream",
     "text": [
      "inside export_name2im D20191125T125621.870196-PN25\n"
     ]
    },
    {
     "name": "stderr",
     "output_type": "stream",
     "text": [
      "C:\\ProgramData\\anaconda3\\envs\\silcamfw\\lib\\site-packages\\skimage\\io\\_io.py:141: UserWarning: D:/petridish/ext\\D20191125T125621.870196-PN25.tiff is a low contrast image\n",
      "  warn('%s is a low contrast image' % fname)\n"
     ]
    },
    {
     "name": "stdout",
     "output_type": "stream",
     "text": [
      "inside export_name2im D20191125T125621.870196-PN27\n",
      "inside export_name2im D20191125T125621.870196-PN28\n"
     ]
    },
    {
     "name": "stderr",
     "output_type": "stream",
     "text": [
      "C:\\ProgramData\\anaconda3\\envs\\silcamfw\\lib\\site-packages\\skimage\\io\\_io.py:141: UserWarning: D:/petridish/ext\\D20191125T125621.870196-PN28.tiff is a low contrast image\n",
      "  warn('%s is a low contrast image' % fname)\n"
     ]
    },
    {
     "name": "stdout",
     "output_type": "stream",
     "text": [
      "inside export_name2im D20191125T125621.870196-PN31\n"
     ]
    },
    {
     "name": "stderr",
     "output_type": "stream",
     "text": [
      "C:\\ProgramData\\anaconda3\\envs\\silcamfw\\lib\\site-packages\\skimage\\io\\_io.py:141: UserWarning: D:/petridish/ext\\D20191125T125621.870196-PN31.tiff is a low contrast image\n",
      "  warn('%s is a low contrast image' % fname)\n"
     ]
    },
    {
     "name": "stdout",
     "output_type": "stream",
     "text": [
      "inside export_name2im D20191125T125621.870196-PN33\n",
      "inside export_name2im D20191125T125621.870196-PN34\n"
     ]
    },
    {
     "name": "stderr",
     "output_type": "stream",
     "text": [
      "C:\\ProgramData\\anaconda3\\envs\\silcamfw\\lib\\site-packages\\skimage\\io\\_io.py:141: UserWarning: D:/petridish/ext\\D20191125T125621.870196-PN34.tiff is a low contrast image\n",
      "  warn('%s is a low contrast image' % fname)\n"
     ]
    },
    {
     "name": "stdout",
     "output_type": "stream",
     "text": [
      "inside export_name2im D20191125T125621.870196-PN36\n"
     ]
    },
    {
     "name": "stderr",
     "output_type": "stream",
     "text": [
      "C:\\ProgramData\\anaconda3\\envs\\silcamfw\\lib\\site-packages\\skimage\\io\\_io.py:141: UserWarning: D:/petridish/ext\\D20191125T125621.870196-PN36.tiff is a low contrast image\n",
      "  warn('%s is a low contrast image' % fname)\n"
     ]
    },
    {
     "name": "stdout",
     "output_type": "stream",
     "text": [
      "inside export_name2im D20191125T125621.870196-PN37\n"
     ]
    },
    {
     "name": "stderr",
     "output_type": "stream",
     "text": [
      "C:\\ProgramData\\anaconda3\\envs\\silcamfw\\lib\\site-packages\\skimage\\io\\_io.py:141: UserWarning: D:/petridish/ext\\D20191125T125621.870196-PN37.tiff is a low contrast image\n",
      "  warn('%s is a low contrast image' % fname)\n"
     ]
    },
    {
     "name": "stdout",
     "output_type": "stream",
     "text": [
      "inside export_name2im D20191125T125621.870196-PN38\n",
      "inside export_name2im D20191125T125622.763127-PN9\n",
      "inside export_name2im D20191125T125622.763127-PN12\n"
     ]
    },
    {
     "name": "stderr",
     "output_type": "stream",
     "text": [
      "C:\\ProgramData\\anaconda3\\envs\\silcamfw\\lib\\site-packages\\skimage\\io\\_io.py:141: UserWarning: D:/petridish/ext\\D20191125T125622.763127-PN12.tiff is a low contrast image\n",
      "  warn('%s is a low contrast image' % fname)\n"
     ]
    },
    {
     "name": "stdout",
     "output_type": "stream",
     "text": [
      "inside export_name2im D20191125T125622.763127-PN13\n"
     ]
    },
    {
     "name": "stderr",
     "output_type": "stream",
     "text": [
      "C:\\ProgramData\\anaconda3\\envs\\silcamfw\\lib\\site-packages\\skimage\\io\\_io.py:141: UserWarning: D:/petridish/ext\\D20191125T125622.763127-PN13.tiff is a low contrast image\n",
      "  warn('%s is a low contrast image' % fname)\n"
     ]
    },
    {
     "name": "stdout",
     "output_type": "stream",
     "text": [
      "inside export_name2im D20191125T125622.763127-PN16\n",
      "inside export_name2im D20191125T125622.763127-PN18\n",
      "inside export_name2im D20191125T125622.763127-PN19\n"
     ]
    },
    {
     "name": "stderr",
     "output_type": "stream",
     "text": [
      "C:\\ProgramData\\anaconda3\\envs\\silcamfw\\lib\\site-packages\\skimage\\io\\_io.py:141: UserWarning: D:/petridish/ext\\D20191125T125622.763127-PN19.tiff is a low contrast image\n",
      "  warn('%s is a low contrast image' % fname)\n"
     ]
    },
    {
     "name": "stdout",
     "output_type": "stream",
     "text": [
      "inside export_name2im D20191125T125622.763127-PN21\n"
     ]
    },
    {
     "name": "stderr",
     "output_type": "stream",
     "text": [
      "C:\\ProgramData\\anaconda3\\envs\\silcamfw\\lib\\site-packages\\skimage\\io\\_io.py:141: UserWarning: D:/petridish/ext\\D20191125T125622.763127-PN21.tiff is a low contrast image\n",
      "  warn('%s is a low contrast image' % fname)\n"
     ]
    },
    {
     "name": "stdout",
     "output_type": "stream",
     "text": [
      "inside export_name2im D20191125T125622.763127-PN23\n",
      "inside export_name2im D20191125T125622.763127-PN24\n"
     ]
    },
    {
     "name": "stderr",
     "output_type": "stream",
     "text": [
      "C:\\ProgramData\\anaconda3\\envs\\silcamfw\\lib\\site-packages\\skimage\\io\\_io.py:141: UserWarning: D:/petridish/ext\\D20191125T125622.763127-PN24.tiff is a low contrast image\n",
      "  warn('%s is a low contrast image' % fname)\n"
     ]
    },
    {
     "name": "stdout",
     "output_type": "stream",
     "text": [
      "inside export_name2im D20191125T125622.763127-PN27\n"
     ]
    },
    {
     "name": "stderr",
     "output_type": "stream",
     "text": [
      "C:\\ProgramData\\anaconda3\\envs\\silcamfw\\lib\\site-packages\\skimage\\io\\_io.py:141: UserWarning: D:/petridish/ext\\D20191125T125622.763127-PN27.tiff is a low contrast image\n",
      "  warn('%s is a low contrast image' % fname)\n"
     ]
    },
    {
     "name": "stdout",
     "output_type": "stream",
     "text": [
      "inside export_name2im D20191125T125622.763127-PN28\n"
     ]
    },
    {
     "name": "stderr",
     "output_type": "stream",
     "text": [
      "C:\\ProgramData\\anaconda3\\envs\\silcamfw\\lib\\site-packages\\skimage\\io\\_io.py:141: UserWarning: D:/petridish/ext\\D20191125T125622.763127-PN28.tiff is a low contrast image\n",
      "  warn('%s is a low contrast image' % fname)\n"
     ]
    },
    {
     "name": "stdout",
     "output_type": "stream",
     "text": [
      "inside export_name2im D20191125T125622.763127-PN30\n"
     ]
    },
    {
     "name": "stderr",
     "output_type": "stream",
     "text": [
      "C:\\ProgramData\\anaconda3\\envs\\silcamfw\\lib\\site-packages\\skimage\\io\\_io.py:141: UserWarning: D:/petridish/ext\\D20191125T125622.763127-PN30.tiff is a low contrast image\n",
      "  warn('%s is a low contrast image' % fname)\n"
     ]
    },
    {
     "name": "stdout",
     "output_type": "stream",
     "text": [
      "inside export_name2im D20191125T125622.763127-PN31\n",
      "inside export_name2im D20191125T125624.129360-PN4\n",
      "inside export_name2im D20191125T125624.129360-PN8\n",
      "inside export_name2im D20191125T125624.129360-PN12\n",
      "inside export_name2im D20191125T125624.129360-PN20\n"
     ]
    },
    {
     "name": "stderr",
     "output_type": "stream",
     "text": [
      "C:\\ProgramData\\anaconda3\\envs\\silcamfw\\lib\\site-packages\\skimage\\io\\_io.py:141: UserWarning: D:/petridish/ext\\D20191125T125624.129360-PN20.tiff is a low contrast image\n",
      "  warn('%s is a low contrast image' % fname)\n"
     ]
    },
    {
     "name": "stdout",
     "output_type": "stream",
     "text": [
      "inside export_name2im D20191125T125624.129360-PN21\n",
      "inside export_name2im D20191125T125624.129360-PN24\n",
      "inside export_name2im D20191125T125624.129360-PN26\n"
     ]
    },
    {
     "name": "stderr",
     "output_type": "stream",
     "text": [
      "C:\\ProgramData\\anaconda3\\envs\\silcamfw\\lib\\site-packages\\skimage\\io\\_io.py:141: UserWarning: D:/petridish/ext\\D20191125T125624.129360-PN26.tiff is a low contrast image\n",
      "  warn('%s is a low contrast image' % fname)\n"
     ]
    },
    {
     "name": "stdout",
     "output_type": "stream",
     "text": [
      "inside export_name2im D20191125T125624.129360-PN33\n"
     ]
    },
    {
     "name": "stderr",
     "output_type": "stream",
     "text": [
      "C:\\ProgramData\\anaconda3\\envs\\silcamfw\\lib\\site-packages\\skimage\\io\\_io.py:141: UserWarning: D:/petridish/ext\\D20191125T125624.129360-PN33.tiff is a low contrast image\n",
      "  warn('%s is a low contrast image' % fname)\n"
     ]
    },
    {
     "name": "stdout",
     "output_type": "stream",
     "text": [
      "inside export_name2im D20191125T125624.129360-PN38\n",
      "inside export_name2im D20191125T125625.281483-PN1\n",
      "inside export_name2im D20191125T125625.281483-PN17\n",
      "inside export_name2im D20191125T125625.281483-PN22\n",
      "inside export_name2im D20191125T125625.281483-PN35\n"
     ]
    },
    {
     "name": "stderr",
     "output_type": "stream",
     "text": [
      "C:\\ProgramData\\anaconda3\\envs\\silcamfw\\lib\\site-packages\\skimage\\io\\_io.py:141: UserWarning: D:/petridish/ext\\D20191125T125625.281483-PN35.tiff is a low contrast image\n",
      "  warn('%s is a low contrast image' % fname)\n"
     ]
    },
    {
     "name": "stdout",
     "output_type": "stream",
     "text": [
      "inside export_name2im D20191125T125634.153291-PN5\n",
      "inside export_name2im D20191125T125634.153291-PN12\n"
     ]
    },
    {
     "name": "stderr",
     "output_type": "stream",
     "text": [
      "C:\\ProgramData\\anaconda3\\envs\\silcamfw\\lib\\site-packages\\skimage\\io\\_io.py:141: UserWarning: D:/petridish/ext\\D20191125T125634.153291-PN12.tiff is a low contrast image\n",
      "  warn('%s is a low contrast image' % fname)\n"
     ]
    },
    {
     "name": "stdout",
     "output_type": "stream",
     "text": [
      "inside export_name2im D20191125T125634.153291-PN13\n",
      "inside export_name2im D20191125T125634.153291-PN29\n",
      "inside export_name2im D20191125T125634.153291-PN30\n"
     ]
    },
    {
     "name": "stderr",
     "output_type": "stream",
     "text": [
      "C:\\ProgramData\\anaconda3\\envs\\silcamfw\\lib\\site-packages\\skimage\\io\\_io.py:141: UserWarning: D:/petridish/ext\\D20191125T125634.153291-PN30.tiff is a low contrast image\n",
      "  warn('%s is a low contrast image' % fname)\n"
     ]
    },
    {
     "name": "stdout",
     "output_type": "stream",
     "text": [
      "inside export_name2im D20191125T125634.153291-PN32\n",
      "inside export_name2im D20191125T125634.801954-PN0\n",
      "inside export_name2im D20191125T125634.801954-PN5\n",
      "inside export_name2im D20191125T125634.801954-PN6\n"
     ]
    },
    {
     "name": "stderr",
     "output_type": "stream",
     "text": [
      "C:\\ProgramData\\anaconda3\\envs\\silcamfw\\lib\\site-packages\\skimage\\io\\_io.py:141: UserWarning: D:/petridish/ext\\D20191125T125634.801954-PN6.tiff is a low contrast image\n",
      "  warn('%s is a low contrast image' % fname)\n"
     ]
    },
    {
     "name": "stdout",
     "output_type": "stream",
     "text": [
      "inside export_name2im D20191125T125634.801954-PN7\n"
     ]
    },
    {
     "name": "stderr",
     "output_type": "stream",
     "text": [
      "C:\\ProgramData\\anaconda3\\envs\\silcamfw\\lib\\site-packages\\skimage\\io\\_io.py:141: UserWarning: D:/petridish/ext\\D20191125T125634.801954-PN7.tiff is a low contrast image\n",
      "  warn('%s is a low contrast image' % fname)\n"
     ]
    },
    {
     "name": "stdout",
     "output_type": "stream",
     "text": [
      "inside export_name2im D20191125T125634.801954-PN8\n"
     ]
    },
    {
     "name": "stderr",
     "output_type": "stream",
     "text": [
      "C:\\ProgramData\\anaconda3\\envs\\silcamfw\\lib\\site-packages\\skimage\\io\\_io.py:141: UserWarning: D:/petridish/ext\\D20191125T125634.801954-PN8.tiff is a low contrast image\n",
      "  warn('%s is a low contrast image' % fname)\n"
     ]
    },
    {
     "name": "stdout",
     "output_type": "stream",
     "text": [
      "inside export_name2im D20191125T125634.801954-PN16\n",
      "inside export_name2im D20191125T125634.801954-PN21\n",
      "inside export_name2im D20191125T125634.801954-PN31\n",
      "inside export_name2im D20191125T125635.450578-PN0\n",
      "inside export_name2im D20191125T125635.450578-PN5\n",
      "inside export_name2im D20191125T125635.450578-PN8\n"
     ]
    },
    {
     "name": "stderr",
     "output_type": "stream",
     "text": [
      "C:\\ProgramData\\anaconda3\\envs\\silcamfw\\lib\\site-packages\\skimage\\io\\_io.py:141: UserWarning: D:/petridish/ext\\D20191125T125635.450578-PN8.tiff is a low contrast image\n",
      "  warn('%s is a low contrast image' % fname)\n"
     ]
    },
    {
     "name": "stdout",
     "output_type": "stream",
     "text": [
      "inside export_name2im D20191125T125635.450578-PN13\n"
     ]
    },
    {
     "name": "stderr",
     "output_type": "stream",
     "text": [
      "C:\\ProgramData\\anaconda3\\envs\\silcamfw\\lib\\site-packages\\skimage\\io\\_io.py:141: UserWarning: D:/petridish/ext\\D20191125T125635.450578-PN13.tiff is a low contrast image\n",
      "  warn('%s is a low contrast image' % fname)\n"
     ]
    },
    {
     "name": "stdout",
     "output_type": "stream",
     "text": [
      "inside export_name2im D20191125T125635.450578-PN14\n"
     ]
    },
    {
     "name": "stderr",
     "output_type": "stream",
     "text": [
      "C:\\ProgramData\\anaconda3\\envs\\silcamfw\\lib\\site-packages\\skimage\\io\\_io.py:141: UserWarning: D:/petridish/ext\\D20191125T125635.450578-PN14.tiff is a low contrast image\n",
      "  warn('%s is a low contrast image' % fname)\n"
     ]
    },
    {
     "name": "stdout",
     "output_type": "stream",
     "text": [
      "inside export_name2im D20191125T125635.450578-PN26\n",
      "inside export_name2im D20191125T125635.866842-PN2\n",
      "inside export_name2im D20191125T125635.866842-PN5\n",
      "inside export_name2im D20191125T125635.866842-PN14\n"
     ]
    },
    {
     "name": "stderr",
     "output_type": "stream",
     "text": [
      "C:\\ProgramData\\anaconda3\\envs\\silcamfw\\lib\\site-packages\\skimage\\io\\_io.py:141: UserWarning: D:/petridish/ext\\D20191125T125635.866842-PN14.tiff is a low contrast image\n",
      "  warn('%s is a low contrast image' % fname)\n"
     ]
    },
    {
     "name": "stdout",
     "output_type": "stream",
     "text": [
      "inside export_name2im D20191125T125635.866842-PN18\n"
     ]
    },
    {
     "name": "stderr",
     "output_type": "stream",
     "text": [
      "C:\\ProgramData\\anaconda3\\envs\\silcamfw\\lib\\site-packages\\skimage\\io\\_io.py:141: UserWarning: D:/petridish/ext\\D20191125T125635.866842-PN18.tiff is a low contrast image\n",
      "  warn('%s is a low contrast image' % fname)\n"
     ]
    },
    {
     "name": "stdout",
     "output_type": "stream",
     "text": [
      "inside export_name2im D20191125T125635.866842-PN21\n",
      "inside export_name2im D20191125T125635.866842-PN33\n",
      "inside export_name2im D20191125T125636.543516-PN1\n",
      "inside export_name2im D20191125T125636.543516-PN4\n"
     ]
    },
    {
     "name": "stderr",
     "output_type": "stream",
     "text": [
      "C:\\ProgramData\\anaconda3\\envs\\silcamfw\\lib\\site-packages\\skimage\\io\\_io.py:141: UserWarning: D:/petridish/ext\\D20191125T125636.543516-PN4.tiff is a low contrast image\n",
      "  warn('%s is a low contrast image' % fname)\n"
     ]
    },
    {
     "name": "stdout",
     "output_type": "stream",
     "text": [
      "inside export_name2im D20191125T125636.543516-PN5\n",
      "inside export_name2im D20191125T125636.543516-PN11\n",
      "inside export_name2im D20191125T125636.543516-PN12\n",
      "inside export_name2im D20191125T125636.543516-PN14\n",
      "inside export_name2im D20191125T125636.543516-PN18\n",
      "inside export_name2im D20191125T125636.543516-PN24\n",
      "inside export_name2im D20191125T125636.543516-PN25\n"
     ]
    },
    {
     "name": "stderr",
     "output_type": "stream",
     "text": [
      "C:\\ProgramData\\anaconda3\\envs\\silcamfw\\lib\\site-packages\\skimage\\io\\_io.py:141: UserWarning: D:/petridish/ext\\D20191125T125636.543516-PN25.tiff is a low contrast image\n",
      "  warn('%s is a low contrast image' % fname)\n"
     ]
    },
    {
     "name": "stdout",
     "output_type": "stream",
     "text": [
      "inside export_name2im D20191125T125637.160521-PN6\n",
      "inside export_name2im D20191125T125637.160521-PN7\n"
     ]
    },
    {
     "name": "stderr",
     "output_type": "stream",
     "text": [
      "C:\\ProgramData\\anaconda3\\envs\\silcamfw\\lib\\site-packages\\skimage\\io\\_io.py:141: UserWarning: D:/petridish/ext\\D20191125T125637.160521-PN7.tiff is a low contrast image\n",
      "  warn('%s is a low contrast image' % fname)\n"
     ]
    },
    {
     "name": "stdout",
     "output_type": "stream",
     "text": [
      "inside export_name2im D20191125T125637.160521-PN8\n"
     ]
    },
    {
     "name": "stderr",
     "output_type": "stream",
     "text": [
      "C:\\ProgramData\\anaconda3\\envs\\silcamfw\\lib\\site-packages\\skimage\\io\\_io.py:141: UserWarning: D:/petridish/ext\\D20191125T125637.160521-PN8.tiff is a low contrast image\n",
      "  warn('%s is a low contrast image' % fname)\n"
     ]
    },
    {
     "name": "stdout",
     "output_type": "stream",
     "text": [
      "inside export_name2im D20191125T125637.160521-PN10\n"
     ]
    },
    {
     "name": "stderr",
     "output_type": "stream",
     "text": [
      "C:\\ProgramData\\anaconda3\\envs\\silcamfw\\lib\\site-packages\\skimage\\io\\_io.py:141: UserWarning: D:/petridish/ext\\D20191125T125637.160521-PN10.tiff is a low contrast image\n",
      "  warn('%s is a low contrast image' % fname)\n"
     ]
    },
    {
     "name": "stdout",
     "output_type": "stream",
     "text": [
      "inside export_name2im D20191125T125637.160521-PN11\n",
      "inside export_name2im D20191125T125637.160521-PN12\n"
     ]
    },
    {
     "name": "stderr",
     "output_type": "stream",
     "text": [
      "C:\\ProgramData\\anaconda3\\envs\\silcamfw\\lib\\site-packages\\skimage\\io\\_io.py:141: UserWarning: D:/petridish/ext\\D20191125T125637.160521-PN12.tiff is a low contrast image\n",
      "  warn('%s is a low contrast image' % fname)\n"
     ]
    },
    {
     "name": "stdout",
     "output_type": "stream",
     "text": [
      "inside export_name2im D20191125T125637.160521-PN14\n",
      "inside export_name2im D20191125T125637.160521-PN17\n",
      "inside export_name2im D20191125T125637.160521-PN19\n"
     ]
    },
    {
     "name": "stderr",
     "output_type": "stream",
     "text": [
      "C:\\ProgramData\\anaconda3\\envs\\silcamfw\\lib\\site-packages\\skimage\\io\\_io.py:141: UserWarning: D:/petridish/ext\\D20191125T125637.160521-PN19.tiff is a low contrast image\n",
      "  warn('%s is a low contrast image' % fname)\n"
     ]
    },
    {
     "name": "stdout",
     "output_type": "stream",
     "text": [
      "inside export_name2im D20191125T125637.160521-PN20\n",
      "inside export_name2im D20191125T125637.160521-PN21\n"
     ]
    },
    {
     "name": "stderr",
     "output_type": "stream",
     "text": [
      "C:\\ProgramData\\anaconda3\\envs\\silcamfw\\lib\\site-packages\\skimage\\io\\_io.py:141: UserWarning: D:/petridish/ext\\D20191125T125637.160521-PN21.tiff is a low contrast image\n",
      "  warn('%s is a low contrast image' % fname)\n"
     ]
    },
    {
     "name": "stdout",
     "output_type": "stream",
     "text": [
      "inside export_name2im D20191125T125637.160521-PN27\n"
     ]
    },
    {
     "name": "stderr",
     "output_type": "stream",
     "text": [
      "C:\\ProgramData\\anaconda3\\envs\\silcamfw\\lib\\site-packages\\skimage\\io\\_io.py:141: UserWarning: D:/petridish/ext\\D20191125T125637.160521-PN27.tiff is a low contrast image\n",
      "  warn('%s is a low contrast image' % fname)\n"
     ]
    },
    {
     "name": "stdout",
     "output_type": "stream",
     "text": [
      "inside export_name2im D20191125T125637.160521-PN30\n"
     ]
    },
    {
     "name": "stderr",
     "output_type": "stream",
     "text": [
      "C:\\ProgramData\\anaconda3\\envs\\silcamfw\\lib\\site-packages\\skimage\\io\\_io.py:141: UserWarning: D:/petridish/ext\\D20191125T125637.160521-PN30.tiff is a low contrast image\n",
      "  warn('%s is a low contrast image' % fname)\n"
     ]
    },
    {
     "name": "stdout",
     "output_type": "stream",
     "text": [
      "inside export_name2im D20191125T125637.160521-PN31\n",
      "inside export_name2im D20191125T125637.160521-PN33\n",
      "inside export_name2im D20191125T125647.114662-PN16\n",
      "inside export_name2im D20191125T125647.114662-PN19\n",
      "inside export_name2im D20191125T125647.114662-PN20\n"
     ]
    },
    {
     "name": "stderr",
     "output_type": "stream",
     "text": [
      "C:\\ProgramData\\anaconda3\\envs\\silcamfw\\lib\\site-packages\\skimage\\io\\_io.py:141: UserWarning: D:/petridish/ext\\D20191125T125647.114662-PN20.tiff is a low contrast image\n",
      "  warn('%s is a low contrast image' % fname)\n"
     ]
    },
    {
     "name": "stdout",
     "output_type": "stream",
     "text": [
      "inside export_name2im D20191125T125647.114662-PN23\n",
      "inside export_name2im D20191125T125648.029328-PN6\n",
      "inside export_name2im D20191125T125648.029328-PN14\n",
      "inside export_name2im D20191125T125648.029328-PN16\n",
      "inside export_name2im D20191125T125648.029328-PN19\n",
      "inside export_name2im D20191125T125648.029328-PN20\n",
      "inside export_name2im D20191125T125648.029328-PN21\n"
     ]
    },
    {
     "name": "stderr",
     "output_type": "stream",
     "text": [
      "C:\\ProgramData\\anaconda3\\envs\\silcamfw\\lib\\site-packages\\skimage\\io\\_io.py:141: UserWarning: D:/petridish/ext\\D20191125T125648.029328-PN21.tiff is a low contrast image\n",
      "  warn('%s is a low contrast image' % fname)\n"
     ]
    },
    {
     "name": "stdout",
     "output_type": "stream",
     "text": [
      "inside export_name2im D20191125T125648.029328-PN22\n"
     ]
    },
    {
     "name": "stderr",
     "output_type": "stream",
     "text": [
      "C:\\ProgramData\\anaconda3\\envs\\silcamfw\\lib\\site-packages\\skimage\\io\\_io.py:141: UserWarning: D:/petridish/ext\\D20191125T125648.029328-PN22.tiff is a low contrast image\n",
      "  warn('%s is a low contrast image' % fname)\n"
     ]
    },
    {
     "name": "stdout",
     "output_type": "stream",
     "text": [
      "inside export_name2im D20191125T125648.029328-PN23\n"
     ]
    },
    {
     "name": "stderr",
     "output_type": "stream",
     "text": [
      "C:\\ProgramData\\anaconda3\\envs\\silcamfw\\lib\\site-packages\\skimage\\io\\_io.py:141: UserWarning: D:/petridish/ext\\D20191125T125648.029328-PN23.tiff is a low contrast image\n",
      "  warn('%s is a low contrast image' % fname)\n"
     ]
    },
    {
     "name": "stdout",
     "output_type": "stream",
     "text": [
      "inside export_name2im D20191125T125648.029328-PN24\n"
     ]
    },
    {
     "name": "stderr",
     "output_type": "stream",
     "text": [
      "C:\\ProgramData\\anaconda3\\envs\\silcamfw\\lib\\site-packages\\skimage\\io\\_io.py:141: UserWarning: D:/petridish/ext\\D20191125T125648.029328-PN24.tiff is a low contrast image\n",
      "  warn('%s is a low contrast image' % fname)\n"
     ]
    },
    {
     "name": "stdout",
     "output_type": "stream",
     "text": [
      "inside export_name2im D20191125T125652.423412-PN20\n",
      "inside export_name2im D20191125T125652.423412-PN22\n",
      "inside export_name2im D20191125T125658.361445-PN2\n",
      "inside export_name2im D20191125T125658.361445-PN4\n",
      "inside export_name2im D20191125T125658.361445-PN12\n",
      "inside export_name2im D20191125T125658.361445-PN15\n",
      "inside export_name2im D20191125T125658.361445-PN23\n"
     ]
    },
    {
     "name": "stderr",
     "output_type": "stream",
     "text": [
      "C:\\ProgramData\\anaconda3\\envs\\silcamfw\\lib\\site-packages\\skimage\\io\\_io.py:141: UserWarning: D:/petridish/ext\\D20191125T125658.361445-PN23.tiff is a low contrast image\n",
      "  warn('%s is a low contrast image' % fname)\n"
     ]
    },
    {
     "name": "stdout",
     "output_type": "stream",
     "text": [
      "inside export_name2im D20191125T125701.048633-PN2\n",
      "inside export_name2im D20191125T125701.048633-PN12\n",
      "inside export_name2im D20191125T125701.048633-PN14\n",
      "inside export_name2im D20191125T125701.048633-PN17\n",
      "inside export_name2im D20191125T125701.048633-PN33\n",
      "inside export_name2im D20191125T125703.044645-PN10\n",
      "inside export_name2im D20191125T125703.044645-PN11\n"
     ]
    },
    {
     "name": "stderr",
     "output_type": "stream",
     "text": [
      "C:\\ProgramData\\anaconda3\\envs\\silcamfw\\lib\\site-packages\\skimage\\io\\_io.py:141: UserWarning: D:/petridish/ext\\D20191125T125703.044645-PN11.tiff is a low contrast image\n",
      "  warn('%s is a low contrast image' % fname)\n"
     ]
    },
    {
     "name": "stdout",
     "output_type": "stream",
     "text": [
      "inside export_name2im D20191125T125703.044645-PN12\n"
     ]
    },
    {
     "name": "stderr",
     "output_type": "stream",
     "text": [
      "C:\\ProgramData\\anaconda3\\envs\\silcamfw\\lib\\site-packages\\skimage\\io\\_io.py:141: UserWarning: D:/petridish/ext\\D20191125T125703.044645-PN12.tiff is a low contrast image\n",
      "  warn('%s is a low contrast image' % fname)\n"
     ]
    },
    {
     "name": "stdout",
     "output_type": "stream",
     "text": [
      "inside export_name2im D20191125T125703.044645-PN16\n"
     ]
    },
    {
     "name": "stderr",
     "output_type": "stream",
     "text": [
      "C:\\ProgramData\\anaconda3\\envs\\silcamfw\\lib\\site-packages\\skimage\\io\\_io.py:141: UserWarning: D:/petridish/ext\\D20191125T125703.044645-PN16.tiff is a low contrast image\n",
      "  warn('%s is a low contrast image' % fname)\n"
     ]
    },
    {
     "name": "stdout",
     "output_type": "stream",
     "text": [
      "inside export_name2im D20191125T125703.044645-PN18\n"
     ]
    },
    {
     "name": "stderr",
     "output_type": "stream",
     "text": [
      "C:\\ProgramData\\anaconda3\\envs\\silcamfw\\lib\\site-packages\\skimage\\io\\_io.py:141: UserWarning: D:/petridish/ext\\D20191125T125703.044645-PN18.tiff is a low contrast image\n",
      "  warn('%s is a low contrast image' % fname)\n"
     ]
    },
    {
     "name": "stdout",
     "output_type": "stream",
     "text": [
      "inside export_name2im D20191125T125703.044645-PN19\n",
      "inside export_name2im D20191125T125703.044645-PN21\n",
      "inside export_name2im D20191125T125703.963334-PN0\n",
      "inside export_name2im D20191125T125703.963334-PN16\n",
      "inside export_name2im D20191125T125703.963334-PN17\n",
      "inside export_name2im D20191125T125703.963334-PN20\n",
      "inside export_name2im D20191125T125712.655994-PN5\n",
      "inside export_name2im D20191125T125712.655994-PN7\n"
     ]
    },
    {
     "name": "stderr",
     "output_type": "stream",
     "text": [
      "C:\\ProgramData\\anaconda3\\envs\\silcamfw\\lib\\site-packages\\skimage\\io\\_io.py:141: UserWarning: D:/petridish/ext\\D20191125T125712.655994-PN7.tiff is a low contrast image\n",
      "  warn('%s is a low contrast image' % fname)\n"
     ]
    },
    {
     "name": "stdout",
     "output_type": "stream",
     "text": [
      "inside export_name2im D20191125T125712.655994-PN9\n",
      "inside export_name2im D20191125T125745.324058-PN3\n",
      "inside export_name2im D20191125T125745.324058-PN9\n",
      "inside export_name2im D20191125T125745.324058-PN14\n",
      "inside export_name2im D20191125T125745.324058-PN21\n",
      "inside export_name2im D20191125T125745.324058-PN25\n",
      "inside export_name2im D20191125T125745.324058-PN30\n",
      "inside export_name2im D20191125T125745.324058-PN31\n",
      "inside export_name2im D20191125T125827.613452-PN6\n",
      "inside export_name2im D20191125T125827.613452-PN42\n",
      "inside export_name2im D20191125T125827.613452-PN63\n",
      "inside export_name2im D20191125T125827.613452-PN68\n",
      "inside export_name2im D20191125T125828.259182-PN6\n",
      "inside export_name2im D20191125T125828.259182-PN66\n",
      "inside export_name2im D20191125T125828.259182-PN76\n",
      "inside export_name2im D20191125T125828.907082-PN5\n",
      "inside export_name2im D20191125T125828.907082-PN35\n",
      "inside export_name2im D20191125T125828.907082-PN45\n",
      "inside export_name2im D20191125T125828.907082-PN60\n",
      "inside export_name2im D20191125T125828.907082-PN67\n",
      "inside export_name2im D20191125T125828.907082-PN68\n",
      "inside export_name2im D20191125T125829.790517-PN5\n",
      "inside export_name2im D20191125T125829.790517-PN53\n",
      "inside export_name2im D20191125T125829.790517-PN67\n",
      "inside export_name2im D20191125T125829.790517-PN88\n",
      "inside export_name2im D20191125T125829.790517-PN93\n"
     ]
    },
    {
     "name": "stderr",
     "output_type": "stream",
     "text": [
      "C:\\ProgramData\\anaconda3\\envs\\silcamfw\\lib\\site-packages\\skimage\\io\\_io.py:141: UserWarning: D:/petridish/ext\\D20191125T125829.790517-PN93.tiff is a low contrast image\n",
      "  warn('%s is a low contrast image' % fname)\n"
     ]
    },
    {
     "name": "stdout",
     "output_type": "stream",
     "text": [
      "inside export_name2im D20191125T125842.295962-PN20\n"
     ]
    },
    {
     "name": "stderr",
     "output_type": "stream",
     "text": [
      "C:\\ProgramData\\anaconda3\\envs\\silcamfw\\lib\\site-packages\\skimage\\io\\_io.py:141: UserWarning: D:/petridish/ext\\D20191125T125842.295962-PN20.tiff is a low contrast image\n",
      "  warn('%s is a low contrast image' % fname)\n"
     ]
    },
    {
     "name": "stdout",
     "output_type": "stream",
     "text": [
      "inside export_name2im D20191125T125842.295962-PN25\n"
     ]
    },
    {
     "name": "stderr",
     "output_type": "stream",
     "text": [
      "C:\\ProgramData\\anaconda3\\envs\\silcamfw\\lib\\site-packages\\skimage\\io\\_io.py:141: UserWarning: D:/petridish/ext\\D20191125T125842.295962-PN25.tiff is a low contrast image\n",
      "  warn('%s is a low contrast image' % fname)\n"
     ]
    },
    {
     "name": "stdout",
     "output_type": "stream",
     "text": [
      "inside export_name2im D20191125T125842.295962-PN30\n"
     ]
    },
    {
     "name": "stderr",
     "output_type": "stream",
     "text": [
      "C:\\ProgramData\\anaconda3\\envs\\silcamfw\\lib\\site-packages\\skimage\\io\\_io.py:141: UserWarning: D:/petridish/ext\\D20191125T125842.295962-PN30.tiff is a low contrast image\n",
      "  warn('%s is a low contrast image' % fname)\n"
     ]
    },
    {
     "name": "stdout",
     "output_type": "stream",
     "text": [
      "inside export_name2im D20191125T125842.295962-PN31\n"
     ]
    },
    {
     "name": "stderr",
     "output_type": "stream",
     "text": [
      "C:\\ProgramData\\anaconda3\\envs\\silcamfw\\lib\\site-packages\\skimage\\io\\_io.py:141: UserWarning: D:/petridish/ext\\D20191125T125842.295962-PN31.tiff is a low contrast image\n",
      "  warn('%s is a low contrast image' % fname)\n"
     ]
    },
    {
     "name": "stdout",
     "output_type": "stream",
     "text": [
      "inside export_name2im D20191125T125842.295962-PN41\n",
      "inside export_name2im D20191125T125842.295962-PN43\n",
      "inside export_name2im D20191125T125842.295962-PN51\n",
      "inside export_name2im D20191125T125842.295962-PN61\n"
     ]
    },
    {
     "name": "stderr",
     "output_type": "stream",
     "text": [
      "C:\\ProgramData\\anaconda3\\envs\\silcamfw\\lib\\site-packages\\skimage\\io\\_io.py:141: UserWarning: D:/petridish/ext\\D20191125T125842.295962-PN61.tiff is a low contrast image\n",
      "  warn('%s is a low contrast image' % fname)\n"
     ]
    },
    {
     "name": "stdout",
     "output_type": "stream",
     "text": [
      "inside export_name2im D20191125T125842.295962-PN66\n"
     ]
    },
    {
     "name": "stderr",
     "output_type": "stream",
     "text": [
      "C:\\ProgramData\\anaconda3\\envs\\silcamfw\\lib\\site-packages\\skimage\\io\\_io.py:141: UserWarning: D:/petridish/ext\\D20191125T125842.295962-PN66.tiff is a low contrast image\n",
      "  warn('%s is a low contrast image' % fname)\n"
     ]
    },
    {
     "name": "stdout",
     "output_type": "stream",
     "text": [
      "inside export_name2im D20191125T125842.295962-PN70\n"
     ]
    },
    {
     "name": "stderr",
     "output_type": "stream",
     "text": [
      "C:\\ProgramData\\anaconda3\\envs\\silcamfw\\lib\\site-packages\\skimage\\io\\_io.py:141: UserWarning: D:/petridish/ext\\D20191125T125842.295962-PN70.tiff is a low contrast image\n",
      "  warn('%s is a low contrast image' % fname)\n"
     ]
    },
    {
     "name": "stdout",
     "output_type": "stream",
     "text": [
      "inside export_name2im D20191125T125842.295962-PN98\n"
     ]
    },
    {
     "name": "stderr",
     "output_type": "stream",
     "text": [
      "C:\\ProgramData\\anaconda3\\envs\\silcamfw\\lib\\site-packages\\skimage\\io\\_io.py:141: UserWarning: D:/petridish/ext\\D20191125T125842.295962-PN98.tiff is a low contrast image\n",
      "  warn('%s is a low contrast image' % fname)\n"
     ]
    },
    {
     "name": "stdout",
     "output_type": "stream",
     "text": [
      "inside export_name2im D20191125T125842.295962-PN118\n"
     ]
    },
    {
     "name": "stderr",
     "output_type": "stream",
     "text": [
      "C:\\ProgramData\\anaconda3\\envs\\silcamfw\\lib\\site-packages\\skimage\\io\\_io.py:141: UserWarning: D:/petridish/ext\\D20191125T125842.295962-PN118.tiff is a low contrast image\n",
      "  warn('%s is a low contrast image' % fname)\n"
     ]
    },
    {
     "name": "stdout",
     "output_type": "stream",
     "text": [
      "inside export_name2im D20191125T125842.295962-PN130\n"
     ]
    },
    {
     "name": "stderr",
     "output_type": "stream",
     "text": [
      "C:\\ProgramData\\anaconda3\\envs\\silcamfw\\lib\\site-packages\\skimage\\io\\_io.py:141: UserWarning: D:/petridish/ext\\D20191125T125842.295962-PN130.tiff is a low contrast image\n",
      "  warn('%s is a low contrast image' % fname)\n"
     ]
    },
    {
     "name": "stdout",
     "output_type": "stream",
     "text": [
      "inside export_name2im D20191125T125910.706289-PN2\n",
      "inside export_name2im D20191125T125910.706289-PN4\n",
      "inside export_name2im D20191125T125910.706289-PN35\n",
      "inside export_name2im D20191125T125910.706289-PN38\n",
      "inside export_name2im D20191125T125910.706289-PN47\n"
     ]
    },
    {
     "name": "stderr",
     "output_type": "stream",
     "text": [
      "C:\\ProgramData\\anaconda3\\envs\\silcamfw\\lib\\site-packages\\skimage\\io\\_io.py:141: UserWarning: D:/petridish/ext\\D20191125T125910.706289-PN47.tiff is a low contrast image\n",
      "  warn('%s is a low contrast image' % fname)\n"
     ]
    },
    {
     "name": "stdout",
     "output_type": "stream",
     "text": [
      "inside export_name2im D20191125T125910.706289-PN84\n",
      "inside export_name2im D20191125T125910.706289-PN92\n",
      "inside export_name2im D20191125T125910.706289-PN98\n",
      "inside export_name2im D20191125T125910.706289-PN171\n",
      "inside export_name2im D20191125T125910.706289-PN180\n",
      "inside export_name2im D20191125T125910.706289-PN190\n",
      "inside export_name2im D20191125T125910.706289-PN199\n",
      "inside export_name2im D20191125T125913.611502-PN5\n",
      "inside export_name2im D20191125T125913.611502-PN12\n"
     ]
    },
    {
     "name": "stderr",
     "output_type": "stream",
     "text": [
      "C:\\ProgramData\\anaconda3\\envs\\silcamfw\\lib\\site-packages\\skimage\\io\\_io.py:141: UserWarning: D:/petridish/ext\\D20191125T125913.611502-PN12.tiff is a low contrast image\n",
      "  warn('%s is a low contrast image' % fname)\n"
     ]
    },
    {
     "name": "stdout",
     "output_type": "stream",
     "text": [
      "inside export_name2im D20191125T125913.611502-PN17\n"
     ]
    },
    {
     "name": "stderr",
     "output_type": "stream",
     "text": [
      "C:\\ProgramData\\anaconda3\\envs\\silcamfw\\lib\\site-packages\\skimage\\io\\_io.py:141: UserWarning: D:/petridish/ext\\D20191125T125913.611502-PN17.tiff is a low contrast image\n",
      "  warn('%s is a low contrast image' % fname)\n"
     ]
    },
    {
     "name": "stdout",
     "output_type": "stream",
     "text": [
      "inside export_name2im D20191125T125913.611502-PN22\n",
      "inside export_name2im D20191125T125913.611502-PN30\n",
      "inside export_name2im D20191125T125913.611502-PN33\n"
     ]
    },
    {
     "name": "stderr",
     "output_type": "stream",
     "text": [
      "C:\\ProgramData\\anaconda3\\envs\\silcamfw\\lib\\site-packages\\skimage\\io\\_io.py:141: UserWarning: D:/petridish/ext\\D20191125T125913.611502-PN33.tiff is a low contrast image\n",
      "  warn('%s is a low contrast image' % fname)\n"
     ]
    },
    {
     "name": "stdout",
     "output_type": "stream",
     "text": [
      "inside export_name2im D20191125T125913.611502-PN36\n",
      "inside export_name2im D20191125T125913.611502-PN60\n",
      "inside export_name2im D20191125T125913.611502-PN61\n"
     ]
    },
    {
     "name": "stderr",
     "output_type": "stream",
     "text": [
      "C:\\ProgramData\\anaconda3\\envs\\silcamfw\\lib\\site-packages\\skimage\\io\\_io.py:141: UserWarning: D:/petridish/ext\\D20191125T125913.611502-PN61.tiff is a low contrast image\n",
      "  warn('%s is a low contrast image' % fname)\n"
     ]
    },
    {
     "name": "stdout",
     "output_type": "stream",
     "text": [
      "inside export_name2im D20191125T125913.611502-PN62\n",
      "inside export_name2im D20191125T125913.611502-PN64\n",
      "inside export_name2im D20191125T125913.611502-PN65\n",
      "inside export_name2im D20191125T125921.651290-PN7\n"
     ]
    },
    {
     "name": "stderr",
     "output_type": "stream",
     "text": [
      "C:\\ProgramData\\anaconda3\\envs\\silcamfw\\lib\\site-packages\\skimage\\io\\_io.py:141: UserWarning: D:/petridish/ext\\D20191125T125921.651290-PN7.tiff is a low contrast image\n",
      "  warn('%s is a low contrast image' % fname)\n"
     ]
    },
    {
     "name": "stdout",
     "output_type": "stream",
     "text": [
      "inside export_name2im D20191125T125921.651290-PN14\n"
     ]
    },
    {
     "name": "stderr",
     "output_type": "stream",
     "text": [
      "C:\\ProgramData\\anaconda3\\envs\\silcamfw\\lib\\site-packages\\skimage\\io\\_io.py:141: UserWarning: D:/petridish/ext\\D20191125T125921.651290-PN14.tiff is a low contrast image\n",
      "  warn('%s is a low contrast image' % fname)\n"
     ]
    },
    {
     "name": "stdout",
     "output_type": "stream",
     "text": [
      "inside export_name2im D20191125T125921.651290-PN26\n",
      "inside export_name2im D20191125T125921.651290-PN27\n",
      "inside export_name2im D20191125T125923.887038-PN1\n",
      "inside export_name2im D20191125T125923.887038-PN12\n"
     ]
    },
    {
     "name": "stderr",
     "output_type": "stream",
     "text": [
      "C:\\ProgramData\\anaconda3\\envs\\silcamfw\\lib\\site-packages\\skimage\\io\\_io.py:141: UserWarning: D:/petridish/ext\\D20191125T125923.887038-PN12.tiff is a low contrast image\n",
      "  warn('%s is a low contrast image' % fname)\n"
     ]
    },
    {
     "name": "stdout",
     "output_type": "stream",
     "text": [
      "inside export_name2im D20191125T125923.887038-PN14\n",
      "inside export_name2im D20191125T125923.887038-PN21\n",
      "inside export_name2im D20191125T125923.887038-PN35\n"
     ]
    },
    {
     "name": "stderr",
     "output_type": "stream",
     "text": [
      "C:\\ProgramData\\anaconda3\\envs\\silcamfw\\lib\\site-packages\\skimage\\io\\_io.py:141: UserWarning: D:/petridish/ext\\D20191125T125923.887038-PN35.tiff is a low contrast image\n",
      "  warn('%s is a low contrast image' % fname)\n"
     ]
    },
    {
     "name": "stdout",
     "output_type": "stream",
     "text": [
      "inside export_name2im D20191125T125923.887038-PN47\n"
     ]
    },
    {
     "name": "stderr",
     "output_type": "stream",
     "text": [
      "C:\\ProgramData\\anaconda3\\envs\\silcamfw\\lib\\site-packages\\skimage\\io\\_io.py:141: UserWarning: D:/petridish/ext\\D20191125T125923.887038-PN47.tiff is a low contrast image\n",
      "  warn('%s is a low contrast image' % fname)\n"
     ]
    },
    {
     "name": "stdout",
     "output_type": "stream",
     "text": [
      "inside export_name2im D20191125T125923.887038-PN57\n"
     ]
    },
    {
     "name": "stderr",
     "output_type": "stream",
     "text": [
      "C:\\ProgramData\\anaconda3\\envs\\silcamfw\\lib\\site-packages\\skimage\\io\\_io.py:141: UserWarning: D:/petridish/ext\\D20191125T125923.887038-PN57.tiff is a low contrast image\n",
      "  warn('%s is a low contrast image' % fname)\n"
     ]
    },
    {
     "name": "stdout",
     "output_type": "stream",
     "text": [
      "inside export_name2im D20191125T125925.248560-PN0\n",
      "inside export_name2im D20191125T125925.248560-PN4\n",
      "inside export_name2im D20191125T125925.248560-PN5\n"
     ]
    },
    {
     "name": "stderr",
     "output_type": "stream",
     "text": [
      "C:\\ProgramData\\anaconda3\\envs\\silcamfw\\lib\\site-packages\\skimage\\io\\_io.py:141: UserWarning: D:/petridish/ext\\D20191125T125925.248560-PN5.tiff is a low contrast image\n",
      "  warn('%s is a low contrast image' % fname)\n"
     ]
    },
    {
     "name": "stdout",
     "output_type": "stream",
     "text": [
      "inside export_name2im D20191125T125925.248560-PN8\n",
      "inside export_name2im D20191125T125925.248560-PN13\n",
      "inside export_name2im D20191125T125925.248560-PN17\n",
      "inside export_name2im D20191125T125925.248560-PN21\n"
     ]
    },
    {
     "name": "stderr",
     "output_type": "stream",
     "text": [
      "C:\\ProgramData\\anaconda3\\envs\\silcamfw\\lib\\site-packages\\skimage\\io\\_io.py:141: UserWarning: D:/petridish/ext\\D20191125T125925.248560-PN21.tiff is a low contrast image\n",
      "  warn('%s is a low contrast image' % fname)\n"
     ]
    },
    {
     "name": "stdout",
     "output_type": "stream",
     "text": [
      "inside export_name2im D20191125T125925.248560-PN23\n",
      "inside export_name2im D20191125T125927.756743-PN3\n",
      "inside export_name2im D20191125T125927.756743-PN4\n",
      "inside export_name2im D20191125T125927.756743-PN9\n",
      "inside export_name2im D20191125T125927.756743-PN12\n"
     ]
    },
    {
     "name": "stderr",
     "output_type": "stream",
     "text": [
      "C:\\ProgramData\\anaconda3\\envs\\silcamfw\\lib\\site-packages\\skimage\\io\\_io.py:141: UserWarning: D:/petridish/ext\\D20191125T125927.756743-PN12.tiff is a low contrast image\n",
      "  warn('%s is a low contrast image' % fname)\n"
     ]
    },
    {
     "name": "stdout",
     "output_type": "stream",
     "text": [
      "inside export_name2im D20191125T125927.756743-PN13\n"
     ]
    },
    {
     "name": "stderr",
     "output_type": "stream",
     "text": [
      "C:\\ProgramData\\anaconda3\\envs\\silcamfw\\lib\\site-packages\\skimage\\io\\_io.py:141: UserWarning: D:/petridish/ext\\D20191125T125927.756743-PN13.tiff is a low contrast image\n",
      "  warn('%s is a low contrast image' % fname)\n"
     ]
    },
    {
     "name": "stdout",
     "output_type": "stream",
     "text": [
      "inside export_name2im D20191125T125927.756743-PN20\n",
      "inside export_name2im D20191125T125927.756743-PN21\n"
     ]
    },
    {
     "name": "stderr",
     "output_type": "stream",
     "text": [
      "C:\\ProgramData\\anaconda3\\envs\\silcamfw\\lib\\site-packages\\skimage\\io\\_io.py:141: UserWarning: D:/petridish/ext\\D20191125T125927.756743-PN21.tiff is a low contrast image\n",
      "  warn('%s is a low contrast image' % fname)\n"
     ]
    },
    {
     "name": "stdout",
     "output_type": "stream",
     "text": [
      "inside export_name2im D20191125T125927.756743-PN22\n"
     ]
    },
    {
     "name": "stderr",
     "output_type": "stream",
     "text": [
      "C:\\ProgramData\\anaconda3\\envs\\silcamfw\\lib\\site-packages\\skimage\\io\\_io.py:141: UserWarning: D:/petridish/ext\\D20191125T125927.756743-PN22.tiff is a low contrast image\n",
      "  warn('%s is a low contrast image' % fname)\n"
     ]
    },
    {
     "name": "stdout",
     "output_type": "stream",
     "text": [
      "inside export_name2im D20191125T125927.756743-PN35\n",
      "inside export_name2im D20191125T125930.277385-PN0\n",
      "inside export_name2im D20191125T125930.277385-PN8\n",
      "inside export_name2im D20191125T125930.277385-PN10\n"
     ]
    },
    {
     "name": "stderr",
     "output_type": "stream",
     "text": [
      "C:\\ProgramData\\anaconda3\\envs\\silcamfw\\lib\\site-packages\\skimage\\io\\_io.py:141: UserWarning: D:/petridish/ext\\D20191125T125930.277385-PN10.tiff is a low contrast image\n",
      "  warn('%s is a low contrast image' % fname)\n"
     ]
    },
    {
     "name": "stdout",
     "output_type": "stream",
     "text": [
      "inside export_name2im D20191125T125930.277385-PN13\n",
      "inside export_name2im D20191125T125930.277385-PN24\n",
      "inside export_name2im D20191125T125944.929349-PN1\n",
      "inside export_name2im D20191125T125944.929349-PN6\n",
      "inside export_name2im D20191125T125944.929349-PN12\n"
     ]
    },
    {
     "name": "stderr",
     "output_type": "stream",
     "text": [
      "C:\\ProgramData\\anaconda3\\envs\\silcamfw\\lib\\site-packages\\skimage\\io\\_io.py:141: UserWarning: D:/petridish/ext\\D20191125T125944.929349-PN12.tiff is a low contrast image\n",
      "  warn('%s is a low contrast image' % fname)\n"
     ]
    },
    {
     "name": "stdout",
     "output_type": "stream",
     "text": [
      "inside export_name2im D20191125T125944.929349-PN13\n",
      "inside export_name2im D20191125T125944.929349-PN14\n",
      "inside export_name2im D20191125T125944.929349-PN16\n",
      "inside export_name2im D20191125T125944.929349-PN19\n",
      "inside export_name2im D20191125T125944.929349-PN24\n"
     ]
    },
    {
     "name": "stderr",
     "output_type": "stream",
     "text": [
      "C:\\ProgramData\\anaconda3\\envs\\silcamfw\\lib\\site-packages\\skimage\\io\\_io.py:141: UserWarning: D:/petridish/ext\\D20191125T125944.929349-PN24.tiff is a low contrast image\n",
      "  warn('%s is a low contrast image' % fname)\n"
     ]
    },
    {
     "name": "stdout",
     "output_type": "stream",
     "text": [
      "inside export_name2im D20191125T125944.929349-PN25\n"
     ]
    },
    {
     "name": "stderr",
     "output_type": "stream",
     "text": [
      "C:\\ProgramData\\anaconda3\\envs\\silcamfw\\lib\\site-packages\\skimage\\io\\_io.py:141: UserWarning: D:/petridish/ext\\D20191125T125944.929349-PN25.tiff is a low contrast image\n",
      "  warn('%s is a low contrast image' % fname)\n"
     ]
    },
    {
     "name": "stdout",
     "output_type": "stream",
     "text": [
      "inside export_name2im D20191125T125944.929349-PN27\n",
      "inside export_name2im D20191125T125949.055407-PN0\n",
      "inside export_name2im D20191125T125949.055407-PN4\n",
      "inside export_name2im D20191125T125949.055407-PN12\n"
     ]
    },
    {
     "name": "stderr",
     "output_type": "stream",
     "text": [
      "C:\\ProgramData\\anaconda3\\envs\\silcamfw\\lib\\site-packages\\skimage\\io\\_io.py:141: UserWarning: D:/petridish/ext\\D20191125T125949.055407-PN12.tiff is a low contrast image\n",
      "  warn('%s is a low contrast image' % fname)\n"
     ]
    },
    {
     "name": "stdout",
     "output_type": "stream",
     "text": [
      "inside export_name2im D20191125T125949.055407-PN14\n"
     ]
    },
    {
     "name": "stderr",
     "output_type": "stream",
     "text": [
      "C:\\ProgramData\\anaconda3\\envs\\silcamfw\\lib\\site-packages\\skimage\\io\\_io.py:141: UserWarning: D:/petridish/ext\\D20191125T125949.055407-PN14.tiff is a low contrast image\n",
      "  warn('%s is a low contrast image' % fname)\n"
     ]
    },
    {
     "name": "stdout",
     "output_type": "stream",
     "text": [
      "inside export_name2im D20191125T125949.055407-PN16\n"
     ]
    },
    {
     "name": "stderr",
     "output_type": "stream",
     "text": [
      "C:\\ProgramData\\anaconda3\\envs\\silcamfw\\lib\\site-packages\\skimage\\io\\_io.py:141: UserWarning: D:/petridish/ext\\D20191125T125949.055407-PN16.tiff is a low contrast image\n",
      "  warn('%s is a low contrast image' % fname)\n"
     ]
    },
    {
     "name": "stdout",
     "output_type": "stream",
     "text": [
      "inside export_name2im D20191125T125949.055407-PN18\n"
     ]
    },
    {
     "name": "stderr",
     "output_type": "stream",
     "text": [
      "C:\\ProgramData\\anaconda3\\envs\\silcamfw\\lib\\site-packages\\skimage\\io\\_io.py:141: UserWarning: D:/petridish/ext\\D20191125T125949.055407-PN18.tiff is a low contrast image\n",
      "  warn('%s is a low contrast image' % fname)\n"
     ]
    },
    {
     "name": "stdout",
     "output_type": "stream",
     "text": [
      "inside export_name2im D20191125T125949.055407-PN21\n",
      "inside export_name2im D20191125T125949.055407-PN23\n"
     ]
    },
    {
     "name": "stderr",
     "output_type": "stream",
     "text": [
      "C:\\ProgramData\\anaconda3\\envs\\silcamfw\\lib\\site-packages\\skimage\\io\\_io.py:141: UserWarning: D:/petridish/ext\\D20191125T125949.055407-PN23.tiff is a low contrast image\n",
      "  warn('%s is a low contrast image' % fname)\n"
     ]
    },
    {
     "name": "stdout",
     "output_type": "stream",
     "text": [
      "inside export_name2im D20191125T130002.911423-PN0\n",
      "inside export_name2im D20191125T130002.911423-PN1\n",
      "inside export_name2im D20191125T130002.911423-PN2\n"
     ]
    },
    {
     "name": "stderr",
     "output_type": "stream",
     "text": [
      "C:\\ProgramData\\anaconda3\\envs\\silcamfw\\lib\\site-packages\\skimage\\io\\_io.py:141: UserWarning: D:/petridish/ext\\D20191125T130002.911423-PN2.tiff is a low contrast image\n",
      "  warn('%s is a low contrast image' % fname)\n"
     ]
    },
    {
     "name": "stdout",
     "output_type": "stream",
     "text": [
      "inside export_name2im D20191125T130002.911423-PN3\n"
     ]
    },
    {
     "name": "stderr",
     "output_type": "stream",
     "text": [
      "C:\\ProgramData\\anaconda3\\envs\\silcamfw\\lib\\site-packages\\skimage\\io\\_io.py:141: UserWarning: D:/petridish/ext\\D20191125T130002.911423-PN3.tiff is a low contrast image\n",
      "  warn('%s is a low contrast image' % fname)\n"
     ]
    },
    {
     "name": "stdout",
     "output_type": "stream",
     "text": [
      "inside export_name2im D20191125T130002.911423-PN5\n"
     ]
    },
    {
     "name": "stderr",
     "output_type": "stream",
     "text": [
      "C:\\ProgramData\\anaconda3\\envs\\silcamfw\\lib\\site-packages\\skimage\\io\\_io.py:141: UserWarning: D:/petridish/ext\\D20191125T130002.911423-PN5.tiff is a low contrast image\n",
      "  warn('%s is a low contrast image' % fname)\n"
     ]
    },
    {
     "name": "stdout",
     "output_type": "stream",
     "text": [
      "inside export_name2im D20191125T130002.911423-PN8\n"
     ]
    },
    {
     "name": "stderr",
     "output_type": "stream",
     "text": [
      "C:\\ProgramData\\anaconda3\\envs\\silcamfw\\lib\\site-packages\\skimage\\io\\_io.py:141: UserWarning: D:/petridish/ext\\D20191125T130002.911423-PN8.tiff is a low contrast image\n",
      "  warn('%s is a low contrast image' % fname)\n"
     ]
    },
    {
     "name": "stdout",
     "output_type": "stream",
     "text": [
      "inside export_name2im D20191125T130002.911423-PN10\n",
      "inside export_name2im D20191125T130002.911423-PN12\n"
     ]
    },
    {
     "name": "stderr",
     "output_type": "stream",
     "text": [
      "C:\\ProgramData\\anaconda3\\envs\\silcamfw\\lib\\site-packages\\skimage\\io\\_io.py:141: UserWarning: D:/petridish/ext\\D20191125T130002.911423-PN12.tiff is a low contrast image\n",
      "  warn('%s is a low contrast image' % fname)\n"
     ]
    },
    {
     "name": "stdout",
     "output_type": "stream",
     "text": [
      "inside export_name2im D20191125T130002.911423-PN14\n"
     ]
    },
    {
     "name": "stderr",
     "output_type": "stream",
     "text": [
      "C:\\ProgramData\\anaconda3\\envs\\silcamfw\\lib\\site-packages\\skimage\\io\\_io.py:141: UserWarning: D:/petridish/ext\\D20191125T130002.911423-PN14.tiff is a low contrast image\n",
      "  warn('%s is a low contrast image' % fname)\n"
     ]
    },
    {
     "name": "stdout",
     "output_type": "stream",
     "text": [
      "inside export_name2im D20191125T130002.911423-PN23\n"
     ]
    },
    {
     "name": "stderr",
     "output_type": "stream",
     "text": [
      "C:\\ProgramData\\anaconda3\\envs\\silcamfw\\lib\\site-packages\\skimage\\io\\_io.py:141: UserWarning: D:/petridish/ext\\D20191125T130002.911423-PN23.tiff is a low contrast image\n",
      "  warn('%s is a low contrast image' % fname)\n"
     ]
    },
    {
     "name": "stdout",
     "output_type": "stream",
     "text": [
      "inside export_name2im D20191125T130002.911423-PN35\n"
     ]
    },
    {
     "name": "stderr",
     "output_type": "stream",
     "text": [
      "C:\\ProgramData\\anaconda3\\envs\\silcamfw\\lib\\site-packages\\skimage\\io\\_io.py:141: UserWarning: D:/petridish/ext\\D20191125T130002.911423-PN35.tiff is a low contrast image\n",
      "  warn('%s is a low contrast image' % fname)\n"
     ]
    },
    {
     "name": "stdout",
     "output_type": "stream",
     "text": [
      "inside export_name2im D20191125T130002.911423-PN39\n",
      "inside export_name2im D20191125T130011.944204-PN1\n",
      "inside export_name2im D20191125T130011.944204-PN2\n"
     ]
    },
    {
     "name": "stderr",
     "output_type": "stream",
     "text": [
      "C:\\ProgramData\\anaconda3\\envs\\silcamfw\\lib\\site-packages\\skimage\\io\\_io.py:141: UserWarning: D:/petridish/ext\\D20191125T130011.944204-PN2.tiff is a low contrast image\n",
      "  warn('%s is a low contrast image' % fname)\n"
     ]
    },
    {
     "name": "stdout",
     "output_type": "stream",
     "text": [
      "inside export_name2im D20191125T130011.944204-PN3\n"
     ]
    },
    {
     "name": "stderr",
     "output_type": "stream",
     "text": [
      "C:\\ProgramData\\anaconda3\\envs\\silcamfw\\lib\\site-packages\\skimage\\io\\_io.py:141: UserWarning: D:/petridish/ext\\D20191125T130011.944204-PN3.tiff is a low contrast image\n",
      "  warn('%s is a low contrast image' % fname)\n"
     ]
    },
    {
     "name": "stdout",
     "output_type": "stream",
     "text": [
      "inside export_name2im D20191125T130011.944204-PN15\n"
     ]
    },
    {
     "name": "stderr",
     "output_type": "stream",
     "text": [
      "C:\\ProgramData\\anaconda3\\envs\\silcamfw\\lib\\site-packages\\skimage\\io\\_io.py:141: UserWarning: D:/petridish/ext\\D20191125T130011.944204-PN15.tiff is a low contrast image\n",
      "  warn('%s is a low contrast image' % fname)\n"
     ]
    },
    {
     "name": "stdout",
     "output_type": "stream",
     "text": [
      "inside export_name2im D20191125T130011.944204-PN18\n",
      "inside export_name2im D20191125T130011.944204-PN19\n",
      "inside export_name2im D20191125T130011.944204-PN21\n"
     ]
    },
    {
     "name": "stderr",
     "output_type": "stream",
     "text": [
      "C:\\ProgramData\\anaconda3\\envs\\silcamfw\\lib\\site-packages\\skimage\\io\\_io.py:141: UserWarning: D:/petridish/ext\\D20191125T130011.944204-PN21.tiff is a low contrast image\n",
      "  warn('%s is a low contrast image' % fname)\n"
     ]
    },
    {
     "name": "stdout",
     "output_type": "stream",
     "text": [
      "inside export_name2im D20191125T130011.944204-PN22\n"
     ]
    },
    {
     "name": "stderr",
     "output_type": "stream",
     "text": [
      "C:\\ProgramData\\anaconda3\\envs\\silcamfw\\lib\\site-packages\\skimage\\io\\_io.py:141: UserWarning: D:/petridish/ext\\D20191125T130011.944204-PN22.tiff is a low contrast image\n",
      "  warn('%s is a low contrast image' % fname)\n"
     ]
    },
    {
     "name": "stdout",
     "output_type": "stream",
     "text": [
      "inside export_name2im D20191125T130011.944204-PN23\n",
      "inside export_name2im D20191125T130011.944204-PN26\n"
     ]
    },
    {
     "name": "stderr",
     "output_type": "stream",
     "text": [
      "C:\\ProgramData\\anaconda3\\envs\\silcamfw\\lib\\site-packages\\skimage\\io\\_io.py:141: UserWarning: D:/petridish/ext\\D20191125T130011.944204-PN26.tiff is a low contrast image\n",
      "  warn('%s is a low contrast image' % fname)\n"
     ]
    },
    {
     "name": "stdout",
     "output_type": "stream",
     "text": [
      "inside export_name2im D20191125T130012.367154-PN1\n",
      "inside export_name2im D20191125T130012.367154-PN10\n"
     ]
    },
    {
     "name": "stderr",
     "output_type": "stream",
     "text": [
      "C:\\ProgramData\\anaconda3\\envs\\silcamfw\\lib\\site-packages\\skimage\\io\\_io.py:141: UserWarning: D:/petridish/ext\\D20191125T130012.367154-PN10.tiff is a low contrast image\n",
      "  warn('%s is a low contrast image' % fname)\n"
     ]
    },
    {
     "name": "stdout",
     "output_type": "stream",
     "text": [
      "inside export_name2im D20191125T130012.367154-PN11\n"
     ]
    },
    {
     "name": "stderr",
     "output_type": "stream",
     "text": [
      "C:\\ProgramData\\anaconda3\\envs\\silcamfw\\lib\\site-packages\\skimage\\io\\_io.py:141: UserWarning: D:/petridish/ext\\D20191125T130012.367154-PN11.tiff is a low contrast image\n",
      "  warn('%s is a low contrast image' % fname)\n"
     ]
    },
    {
     "name": "stdout",
     "output_type": "stream",
     "text": [
      "inside export_name2im D20191125T130012.367154-PN15\n"
     ]
    },
    {
     "name": "stderr",
     "output_type": "stream",
     "text": [
      "C:\\ProgramData\\anaconda3\\envs\\silcamfw\\lib\\site-packages\\skimage\\io\\_io.py:141: UserWarning: D:/petridish/ext\\D20191125T130012.367154-PN15.tiff is a low contrast image\n",
      "  warn('%s is a low contrast image' % fname)\n"
     ]
    },
    {
     "name": "stdout",
     "output_type": "stream",
     "text": [
      "inside export_name2im D20191125T130012.367154-PN16\n",
      "inside export_name2im D20191125T130012.367154-PN19\n",
      "inside export_name2im D20191125T130012.788307-PN0\n",
      "inside export_name2im D20191125T130012.788307-PN1\n"
     ]
    },
    {
     "name": "stderr",
     "output_type": "stream",
     "text": [
      "C:\\ProgramData\\anaconda3\\envs\\silcamfw\\lib\\site-packages\\skimage\\io\\_io.py:141: UserWarning: D:/petridish/ext\\D20191125T130012.788307-PN1.tiff is a low contrast image\n",
      "  warn('%s is a low contrast image' % fname)\n"
     ]
    },
    {
     "name": "stdout",
     "output_type": "stream",
     "text": [
      "inside export_name2im D20191125T130012.788307-PN2\n",
      "inside export_name2im D20191125T130012.788307-PN7\n"
     ]
    },
    {
     "name": "stderr",
     "output_type": "stream",
     "text": [
      "C:\\ProgramData\\anaconda3\\envs\\silcamfw\\lib\\site-packages\\skimage\\io\\_io.py:141: UserWarning: D:/petridish/ext\\D20191125T130012.788307-PN7.tiff is a low contrast image\n",
      "  warn('%s is a low contrast image' % fname)\n"
     ]
    },
    {
     "name": "stdout",
     "output_type": "stream",
     "text": [
      "inside export_name2im D20191125T130012.788307-PN8\n"
     ]
    },
    {
     "name": "stderr",
     "output_type": "stream",
     "text": [
      "C:\\ProgramData\\anaconda3\\envs\\silcamfw\\lib\\site-packages\\skimage\\io\\_io.py:141: UserWarning: D:/petridish/ext\\D20191125T130012.788307-PN8.tiff is a low contrast image\n",
      "  warn('%s is a low contrast image' % fname)\n"
     ]
    },
    {
     "name": "stdout",
     "output_type": "stream",
     "text": [
      "inside export_name2im D20191125T130012.788307-PN10\n",
      "inside export_name2im D20191125T130012.788307-PN11\n"
     ]
    },
    {
     "name": "stderr",
     "output_type": "stream",
     "text": [
      "C:\\ProgramData\\anaconda3\\envs\\silcamfw\\lib\\site-packages\\skimage\\io\\_io.py:141: UserWarning: D:/petridish/ext\\D20191125T130012.788307-PN11.tiff is a low contrast image\n",
      "  warn('%s is a low contrast image' % fname)\n"
     ]
    },
    {
     "name": "stdout",
     "output_type": "stream",
     "text": [
      "inside export_name2im D20191125T130012.788307-PN12\n"
     ]
    },
    {
     "name": "stderr",
     "output_type": "stream",
     "text": [
      "C:\\ProgramData\\anaconda3\\envs\\silcamfw\\lib\\site-packages\\skimage\\io\\_io.py:141: UserWarning: D:/petridish/ext\\D20191125T130012.788307-PN12.tiff is a low contrast image\n",
      "  warn('%s is a low contrast image' % fname)\n"
     ]
    },
    {
     "name": "stdout",
     "output_type": "stream",
     "text": [
      "inside export_name2im D20191125T130012.788307-PN13\n"
     ]
    },
    {
     "name": "stderr",
     "output_type": "stream",
     "text": [
      "C:\\ProgramData\\anaconda3\\envs\\silcamfw\\lib\\site-packages\\skimage\\io\\_io.py:141: UserWarning: D:/petridish/ext\\D20191125T130012.788307-PN13.tiff is a low contrast image\n",
      "  warn('%s is a low contrast image' % fname)\n"
     ]
    },
    {
     "name": "stdout",
     "output_type": "stream",
     "text": [
      "inside export_name2im D20191125T130012.788307-PN18\n"
     ]
    },
    {
     "name": "stderr",
     "output_type": "stream",
     "text": [
      "C:\\ProgramData\\anaconda3\\envs\\silcamfw\\lib\\site-packages\\skimage\\io\\_io.py:141: UserWarning: D:/petridish/ext\\D20191125T130012.788307-PN18.tiff is a low contrast image\n",
      "  warn('%s is a low contrast image' % fname)\n"
     ]
    },
    {
     "name": "stdout",
     "output_type": "stream",
     "text": [
      "inside export_name2im D20191125T130012.788307-PN19\n",
      "inside export_name2im D20191125T130012.788307-PN24\n"
     ]
    },
    {
     "name": "stderr",
     "output_type": "stream",
     "text": [
      "C:\\ProgramData\\anaconda3\\envs\\silcamfw\\lib\\site-packages\\skimage\\io\\_io.py:141: UserWarning: D:/petridish/ext\\D20191125T130012.788307-PN24.tiff is a low contrast image\n",
      "  warn('%s is a low contrast image' % fname)\n"
     ]
    },
    {
     "name": "stdout",
     "output_type": "stream",
     "text": [
      "inside export_name2im D20191125T130012.788307-PN25\n"
     ]
    },
    {
     "name": "stderr",
     "output_type": "stream",
     "text": [
      "C:\\ProgramData\\anaconda3\\envs\\silcamfw\\lib\\site-packages\\skimage\\io\\_io.py:141: UserWarning: D:/petridish/ext\\D20191125T130012.788307-PN25.tiff is a low contrast image\n",
      "  warn('%s is a low contrast image' % fname)\n"
     ]
    },
    {
     "name": "stdout",
     "output_type": "stream",
     "text": [
      "inside export_name2im D20191125T130012.788307-PN26\n",
      "inside export_name2im D20191125T130013.196780-PN0\n",
      "inside export_name2im D20191125T130013.196780-PN1\n"
     ]
    },
    {
     "name": "stderr",
     "output_type": "stream",
     "text": [
      "C:\\ProgramData\\anaconda3\\envs\\silcamfw\\lib\\site-packages\\skimage\\io\\_io.py:141: UserWarning: D:/petridish/ext\\D20191125T130013.196780-PN1.tiff is a low contrast image\n",
      "  warn('%s is a low contrast image' % fname)\n"
     ]
    },
    {
     "name": "stdout",
     "output_type": "stream",
     "text": [
      "inside export_name2im D20191125T130013.196780-PN6\n"
     ]
    },
    {
     "name": "stderr",
     "output_type": "stream",
     "text": [
      "C:\\ProgramData\\anaconda3\\envs\\silcamfw\\lib\\site-packages\\skimage\\io\\_io.py:141: UserWarning: D:/petridish/ext\\D20191125T130013.196780-PN6.tiff is a low contrast image\n",
      "  warn('%s is a low contrast image' % fname)\n"
     ]
    },
    {
     "name": "stdout",
     "output_type": "stream",
     "text": [
      "inside export_name2im D20191125T130013.196780-PN7\n",
      "inside export_name2im D20191125T130013.196780-PN9\n"
     ]
    },
    {
     "name": "stderr",
     "output_type": "stream",
     "text": [
      "C:\\ProgramData\\anaconda3\\envs\\silcamfw\\lib\\site-packages\\skimage\\io\\_io.py:141: UserWarning: D:/petridish/ext\\D20191125T130013.196780-PN9.tiff is a low contrast image\n",
      "  warn('%s is a low contrast image' % fname)\n"
     ]
    },
    {
     "name": "stdout",
     "output_type": "stream",
     "text": [
      "inside export_name2im D20191125T130013.196780-PN10\n"
     ]
    },
    {
     "name": "stderr",
     "output_type": "stream",
     "text": [
      "C:\\ProgramData\\anaconda3\\envs\\silcamfw\\lib\\site-packages\\skimage\\io\\_io.py:141: UserWarning: D:/petridish/ext\\D20191125T130013.196780-PN10.tiff is a low contrast image\n",
      "  warn('%s is a low contrast image' % fname)\n"
     ]
    },
    {
     "name": "stdout",
     "output_type": "stream",
     "text": [
      "inside export_name2im D20191125T130013.196780-PN11\n",
      "inside export_name2im D20191125T130013.196780-PN16\n",
      "inside export_name2im D20191125T130014.430322-PN6\n",
      "inside export_name2im D20191125T130014.430322-PN7\n"
     ]
    },
    {
     "name": "stderr",
     "output_type": "stream",
     "text": [
      "C:\\ProgramData\\anaconda3\\envs\\silcamfw\\lib\\site-packages\\skimage\\io\\_io.py:141: UserWarning: D:/petridish/ext\\D20191125T130014.430322-PN7.tiff is a low contrast image\n",
      "  warn('%s is a low contrast image' % fname)\n"
     ]
    },
    {
     "name": "stdout",
     "output_type": "stream",
     "text": [
      "inside export_name2im D20191125T130014.430322-PN8\n",
      "inside export_name2im D20191125T130014.430322-PN9\n"
     ]
    },
    {
     "name": "stderr",
     "output_type": "stream",
     "text": [
      "C:\\ProgramData\\anaconda3\\envs\\silcamfw\\lib\\site-packages\\skimage\\io\\_io.py:141: UserWarning: D:/petridish/ext\\D20191125T130014.430322-PN9.tiff is a low contrast image\n",
      "  warn('%s is a low contrast image' % fname)\n"
     ]
    },
    {
     "name": "stdout",
     "output_type": "stream",
     "text": [
      "inside export_name2im D20191125T130014.430322-PN10\n"
     ]
    },
    {
     "name": "stderr",
     "output_type": "stream",
     "text": [
      "C:\\ProgramData\\anaconda3\\envs\\silcamfw\\lib\\site-packages\\skimage\\io\\_io.py:141: UserWarning: D:/petridish/ext\\D20191125T130014.430322-PN10.tiff is a low contrast image\n",
      "  warn('%s is a low contrast image' % fname)\n"
     ]
    },
    {
     "name": "stdout",
     "output_type": "stream",
     "text": [
      "inside export_name2im D20191125T130014.430322-PN16\n",
      "inside export_name2im D20191125T130015.070029-PN0\n",
      "inside export_name2im D20191125T130015.070029-PN7\n",
      "inside export_name2im D20191125T130015.070029-PN9\n"
     ]
    },
    {
     "name": "stderr",
     "output_type": "stream",
     "text": [
      "C:\\ProgramData\\anaconda3\\envs\\silcamfw\\lib\\site-packages\\skimage\\io\\_io.py:141: UserWarning: D:/petridish/ext\\D20191125T130015.070029-PN9.tiff is a low contrast image\n",
      "  warn('%s is a low contrast image' % fname)\n"
     ]
    },
    {
     "name": "stdout",
     "output_type": "stream",
     "text": [
      "inside export_name2im D20191125T130015.070029-PN10\n"
     ]
    },
    {
     "name": "stderr",
     "output_type": "stream",
     "text": [
      "C:\\ProgramData\\anaconda3\\envs\\silcamfw\\lib\\site-packages\\skimage\\io\\_io.py:141: UserWarning: D:/petridish/ext\\D20191125T130015.070029-PN10.tiff is a low contrast image\n",
      "  warn('%s is a low contrast image' % fname)\n"
     ]
    },
    {
     "name": "stdout",
     "output_type": "stream",
     "text": [
      "inside export_name2im D20191125T130015.070029-PN13\n",
      "inside export_name2im D20191125T130015.070029-PN15\n"
     ]
    },
    {
     "name": "stderr",
     "output_type": "stream",
     "text": [
      "C:\\ProgramData\\anaconda3\\envs\\silcamfw\\lib\\site-packages\\skimage\\io\\_io.py:141: UserWarning: D:/petridish/ext\\D20191125T130015.070029-PN15.tiff is a low contrast image\n",
      "  warn('%s is a low contrast image' % fname)\n"
     ]
    },
    {
     "name": "stdout",
     "output_type": "stream",
     "text": [
      "inside export_name2im D20191125T130015.704656-PN1\n",
      "inside export_name2im D20191125T130015.704656-PN7\n",
      "inside export_name2im D20191125T130015.704656-PN16\n"
     ]
    },
    {
     "name": "stderr",
     "output_type": "stream",
     "text": [
      "C:\\ProgramData\\anaconda3\\envs\\silcamfw\\lib\\site-packages\\skimage\\io\\_io.py:141: UserWarning: D:/petridish/ext\\D20191125T130015.704656-PN16.tiff is a low contrast image\n",
      "  warn('%s is a low contrast image' % fname)\n"
     ]
    },
    {
     "name": "stdout",
     "output_type": "stream",
     "text": [
      "inside export_name2im D20191125T130015.704656-PN18\n"
     ]
    },
    {
     "name": "stderr",
     "output_type": "stream",
     "text": [
      "C:\\ProgramData\\anaconda3\\envs\\silcamfw\\lib\\site-packages\\skimage\\io\\_io.py:141: UserWarning: D:/petridish/ext\\D20191125T130015.704656-PN18.tiff is a low contrast image\n",
      "  warn('%s is a low contrast image' % fname)\n"
     ]
    },
    {
     "name": "stdout",
     "output_type": "stream",
     "text": [
      "inside export_name2im D20191125T130015.704656-PN19\n"
     ]
    },
    {
     "name": "stderr",
     "output_type": "stream",
     "text": [
      "C:\\ProgramData\\anaconda3\\envs\\silcamfw\\lib\\site-packages\\skimage\\io\\_io.py:141: UserWarning: D:/petridish/ext\\D20191125T130015.704656-PN19.tiff is a low contrast image\n",
      "  warn('%s is a low contrast image' % fname)\n"
     ]
    },
    {
     "name": "stdout",
     "output_type": "stream",
     "text": [
      "inside export_name2im D20191125T130015.704656-PN20\n",
      "inside export_name2im D20191125T130021.046592-PN12\n",
      "inside export_name2im D20191125T130021.046592-PN17\n"
     ]
    },
    {
     "name": "stderr",
     "output_type": "stream",
     "text": [
      "C:\\ProgramData\\anaconda3\\envs\\silcamfw\\lib\\site-packages\\skimage\\io\\_io.py:141: UserWarning: D:/petridish/ext\\D20191125T130021.046592-PN17.tiff is a low contrast image\n",
      "  warn('%s is a low contrast image' % fname)\n"
     ]
    },
    {
     "name": "stdout",
     "output_type": "stream",
     "text": [
      "inside export_name2im D20191125T130021.046592-PN21\n"
     ]
    },
    {
     "name": "stderr",
     "output_type": "stream",
     "text": [
      "C:\\ProgramData\\anaconda3\\envs\\silcamfw\\lib\\site-packages\\skimage\\io\\_io.py:141: UserWarning: D:/petridish/ext\\D20191125T130021.046592-PN21.tiff is a low contrast image\n",
      "  warn('%s is a low contrast image' % fname)\n"
     ]
    },
    {
     "name": "stdout",
     "output_type": "stream",
     "text": [
      "inside export_name2im D20191125T130021.046592-PN25\n",
      "inside export_name2im D20191125T130021.046592-PN26\n"
     ]
    },
    {
     "name": "stderr",
     "output_type": "stream",
     "text": [
      "C:\\ProgramData\\anaconda3\\envs\\silcamfw\\lib\\site-packages\\skimage\\io\\_io.py:141: UserWarning: D:/petridish/ext\\D20191125T130021.046592-PN26.tiff is a low contrast image\n",
      "  warn('%s is a low contrast image' % fname)\n"
     ]
    },
    {
     "name": "stdout",
     "output_type": "stream",
     "text": [
      "inside export_name2im D20191125T130022.873357-PN1\n",
      "inside export_name2im D20191125T130022.873357-PN4\n",
      "inside export_name2im D20191125T130022.873357-PN5\n",
      "inside export_name2im D20191125T130022.873357-PN6\n"
     ]
    },
    {
     "name": "stderr",
     "output_type": "stream",
     "text": [
      "C:\\ProgramData\\anaconda3\\envs\\silcamfw\\lib\\site-packages\\skimage\\io\\_io.py:141: UserWarning: D:/petridish/ext\\D20191125T130022.873357-PN6.tiff is a low contrast image\n",
      "  warn('%s is a low contrast image' % fname)\n"
     ]
    },
    {
     "name": "stdout",
     "output_type": "stream",
     "text": [
      "inside export_name2im D20191125T130022.873357-PN7\n"
     ]
    },
    {
     "name": "stderr",
     "output_type": "stream",
     "text": [
      "C:\\ProgramData\\anaconda3\\envs\\silcamfw\\lib\\site-packages\\skimage\\io\\_io.py:141: UserWarning: D:/petridish/ext\\D20191125T130022.873357-PN7.tiff is a low contrast image\n",
      "  warn('%s is a low contrast image' % fname)\n"
     ]
    },
    {
     "name": "stdout",
     "output_type": "stream",
     "text": [
      "inside export_name2im D20191125T130022.873357-PN10\n",
      "inside export_name2im D20191125T130022.873357-PN12\n",
      "inside export_name2im D20191125T130022.873357-PN13\n",
      "inside export_name2im D20191125T130022.873357-PN22\n"
     ]
    },
    {
     "name": "stderr",
     "output_type": "stream",
     "text": [
      "C:\\ProgramData\\anaconda3\\envs\\silcamfw\\lib\\site-packages\\skimage\\io\\_io.py:141: UserWarning: D:/petridish/ext\\D20191125T130022.873357-PN22.tiff is a low contrast image\n",
      "  warn('%s is a low contrast image' % fname)\n"
     ]
    },
    {
     "name": "stdout",
     "output_type": "stream",
     "text": [
      "inside export_name2im D20191125T130023.517021-PN0\n",
      "inside export_name2im D20191125T130023.517021-PN1\n",
      "inside export_name2im D20191125T130023.517021-PN3\n",
      "inside export_name2im D20191125T130023.517021-PN9\n",
      "inside export_name2im D20191125T130023.517021-PN11\n"
     ]
    },
    {
     "name": "stderr",
     "output_type": "stream",
     "text": [
      "C:\\ProgramData\\anaconda3\\envs\\silcamfw\\lib\\site-packages\\skimage\\io\\_io.py:141: UserWarning: D:/petridish/ext\\D20191125T130023.517021-PN11.tiff is a low contrast image\n",
      "  warn('%s is a low contrast image' % fname)\n"
     ]
    },
    {
     "name": "stdout",
     "output_type": "stream",
     "text": [
      "inside export_name2im D20191125T130023.517021-PN15\n"
     ]
    },
    {
     "name": "stderr",
     "output_type": "stream",
     "text": [
      "C:\\ProgramData\\anaconda3\\envs\\silcamfw\\lib\\site-packages\\skimage\\io\\_io.py:141: UserWarning: D:/petridish/ext\\D20191125T130023.517021-PN15.tiff is a low contrast image\n",
      "  warn('%s is a low contrast image' % fname)\n"
     ]
    },
    {
     "name": "stdout",
     "output_type": "stream",
     "text": [
      "inside export_name2im D20191125T130023.517021-PN19\n",
      "inside export_name2im D20191125T130023.517021-PN22\n",
      "inside export_name2im D20191125T130023.517021-PN23\n",
      "inside export_name2im D20191125T130024.624629-PN1\n",
      "inside export_name2im D20191125T130024.624629-PN2\n",
      "inside export_name2im D20191125T130024.624629-PN5\n"
     ]
    },
    {
     "name": "stderr",
     "output_type": "stream",
     "text": [
      "C:\\ProgramData\\anaconda3\\envs\\silcamfw\\lib\\site-packages\\skimage\\io\\_io.py:141: UserWarning: D:/petridish/ext\\D20191125T130024.624629-PN5.tiff is a low contrast image\n",
      "  warn('%s is a low contrast image' % fname)\n"
     ]
    },
    {
     "name": "stdout",
     "output_type": "stream",
     "text": [
      "inside export_name2im D20191125T130024.624629-PN6\n",
      "inside export_name2im D20191125T130024.624629-PN10\n",
      "inside export_name2im D20191125T130024.624629-PN11\n",
      "inside export_name2im D20191125T130024.624629-PN18\n"
     ]
    },
    {
     "name": "stderr",
     "output_type": "stream",
     "text": [
      "C:\\ProgramData\\anaconda3\\envs\\silcamfw\\lib\\site-packages\\skimage\\io\\_io.py:141: UserWarning: D:/petridish/ext\\D20191125T130024.624629-PN18.tiff is a low contrast image\n",
      "  warn('%s is a low contrast image' % fname)\n"
     ]
    },
    {
     "name": "stdout",
     "output_type": "stream",
     "text": [
      "inside export_name2im D20191125T130024.624629-PN19\n",
      "inside export_name2im D20191125T130024.624629-PN29\n",
      "inside export_name2im D20191125T130024.624629-PN30\n",
      "inside export_name2im D20191125T130026.865472-PN6\n",
      "inside export_name2im D20191125T130026.865472-PN16\n",
      "inside export_name2im D20191125T130026.865472-PN19\n",
      "inside export_name2im D20191125T130029.574682-PN20\n",
      "inside export_name2im D20191125T130029.574682-PN25\n"
     ]
    },
    {
     "name": "stderr",
     "output_type": "stream",
     "text": [
      "C:\\ProgramData\\anaconda3\\envs\\silcamfw\\lib\\site-packages\\skimage\\io\\_io.py:141: UserWarning: D:/petridish/ext\\D20191125T130029.574682-PN25.tiff is a low contrast image\n",
      "  warn('%s is a low contrast image' % fname)\n"
     ]
    },
    {
     "name": "stdout",
     "output_type": "stream",
     "text": [
      "inside export_name2im D20191125T130029.574682-PN26\n",
      "inside export_name2im D20191125T130029.574682-PN30\n"
     ]
    },
    {
     "name": "stderr",
     "output_type": "stream",
     "text": [
      "C:\\ProgramData\\anaconda3\\envs\\silcamfw\\lib\\site-packages\\skimage\\io\\_io.py:141: UserWarning: D:/petridish/ext\\D20191125T130029.574682-PN30.tiff is a low contrast image\n",
      "  warn('%s is a low contrast image' % fname)\n"
     ]
    },
    {
     "name": "stdout",
     "output_type": "stream",
     "text": [
      "inside export_name2im D20191125T130029.574682-PN38\n",
      "inside export_name2im D20191125T130033.433702-PN4\n",
      "inside export_name2im D20191125T130033.433702-PN8\n"
     ]
    },
    {
     "name": "stderr",
     "output_type": "stream",
     "text": [
      "C:\\ProgramData\\anaconda3\\envs\\silcamfw\\lib\\site-packages\\skimage\\io\\_io.py:141: UserWarning: D:/petridish/ext\\D20191125T130033.433702-PN8.tiff is a low contrast image\n",
      "  warn('%s is a low contrast image' % fname)\n"
     ]
    },
    {
     "name": "stdout",
     "output_type": "stream",
     "text": [
      "inside export_name2im D20191125T130033.433702-PN9\n",
      "inside export_name2im D20191125T130033.433702-PN10\n",
      "inside export_name2im D20191125T130033.433702-PN15\n"
     ]
    },
    {
     "name": "stderr",
     "output_type": "stream",
     "text": [
      "C:\\ProgramData\\anaconda3\\envs\\silcamfw\\lib\\site-packages\\skimage\\io\\_io.py:141: UserWarning: D:/petridish/ext\\D20191125T130033.433702-PN15.tiff is a low contrast image\n",
      "  warn('%s is a low contrast image' % fname)\n"
     ]
    },
    {
     "name": "stdout",
     "output_type": "stream",
     "text": [
      "inside export_name2im D20191125T130033.433702-PN17\n",
      "inside export_name2im D20191125T130033.433702-PN18\n"
     ]
    },
    {
     "name": "stderr",
     "output_type": "stream",
     "text": [
      "C:\\ProgramData\\anaconda3\\envs\\silcamfw\\lib\\site-packages\\skimage\\io\\_io.py:141: UserWarning: D:/petridish/ext\\D20191125T130033.433702-PN18.tiff is a low contrast image\n",
      "  warn('%s is a low contrast image' % fname)\n"
     ]
    },
    {
     "name": "stdout",
     "output_type": "stream",
     "text": [
      "inside export_name2im D20191125T130033.433702-PN23\n"
     ]
    },
    {
     "name": "stderr",
     "output_type": "stream",
     "text": [
      "C:\\ProgramData\\anaconda3\\envs\\silcamfw\\lib\\site-packages\\skimage\\io\\_io.py:141: UserWarning: D:/petridish/ext\\D20191125T130033.433702-PN23.tiff is a low contrast image\n",
      "  warn('%s is a low contrast image' % fname)\n"
     ]
    },
    {
     "name": "stdout",
     "output_type": "stream",
     "text": [
      "inside export_name2im D20191125T130033.433702-PN24\n"
     ]
    },
    {
     "name": "stderr",
     "output_type": "stream",
     "text": [
      "C:\\ProgramData\\anaconda3\\envs\\silcamfw\\lib\\site-packages\\skimage\\io\\_io.py:141: UserWarning: D:/petridish/ext\\D20191125T130033.433702-PN24.tiff is a low contrast image\n",
      "  warn('%s is a low contrast image' % fname)\n"
     ]
    },
    {
     "name": "stdout",
     "output_type": "stream",
     "text": [
      "inside export_name2im D20191125T130033.433702-PN29\n",
      "export completed!\n"
     ]
    }
   ],
   "source": [
    "print(stat.shape)\n",
    "stat = stat.dropna()\n",
    "print(stat.shape)\n",
    "\n",
    "df_extract = extract_to_roi(stat, stat_comb, roidir, \n",
    "                            extdir, \n",
    "                            msize=40, minimgsize=1000)\n",
    "print(df_extract.shape)\n",
    "if(df_extract.shape[0] > 0):\n",
    "    objects_to_file(df_extract, roidir, extdir)\n",
    "else:\n",
    "    print('Extracted objects are too small!')\n",
    "\n",
    "                                                                      "
   ]
  },
  {
   "cell_type": "code",
   "execution_count": 34,
   "metadata": {},
   "outputs": [
    {
     "name": "stdout",
     "output_type": "stream",
     "text": [
      "(40, 20)\n",
      "26\n",
      "Creation of the directory D:/January2020/Polar_Night/RAWBMP failed\n",
      "D20200112T145741.587618 failed!\n",
      "D20200112T145757.140313 failed!\n",
      "D20200112T145800.652617 failed!\n",
      "D20200112T145813.098460 failed!\n",
      "D20200112T145941.184114 failed!\n",
      "D20200112T145958.467061 failed!\n",
      "D20200112T150029.788862 failed!\n",
      "D20200112T150030.292873 failed!\n",
      "D20200112T150233.840945 failed!\n",
      "D20200112T150254.486211 failed!\n",
      "D20200112T150357.643991 failed!\n",
      "D20200112T150508.111482 failed!\n",
      "D20200112T150601.734812 failed!\n",
      "D20200112T150626.567757 failed!\n",
      "D20200112T150823.239651 failed!\n",
      "D20200112T150951.010271 failed!\n",
      "D20200112T151100.685675 failed!\n",
      "D20200112T151140.130793 failed!\n",
      "D20200112T151323.222123 failed!\n",
      "D20200112T151327.987995 failed!\n",
      "D20200112T151346.011716 failed!\n",
      "D20200112T151346.263911 failed!\n",
      "D20200112T151403.547758 failed!\n",
      "D20200112T151426.632809 failed!\n",
      "conversion completed!\n",
      "                                   index  equivalent_diameter  \\\n",
      "timestamp                                                       \n",
      "2020-01-12 14:54:11.612182+00:00   15149            15.054456   \n",
      "2020-01-12 14:55:14.773065+00:00   42230            16.155931   \n",
      "2020-01-12 14:57:41.587618+00:00   96570            18.746043   \n",
      "2020-01-12 14:57:41.587618+00:00   96600             6.076508   \n",
      "2020-01-12 14:57:57.140313+00:00  101989            14.406181   \n",
      "2020-01-12 14:58:00.652617+00:00  102931            18.333991   \n",
      "2020-01-12 14:58:13.098460+00:00  108552            92.492684   \n",
      "2020-01-12 14:58:13.098460+00:00  108579            13.351162   \n",
      "2020-01-12 14:59:41.184114+00:00  147615            18.506794   \n",
      "2020-01-12 14:59:58.467061+00:00  156143            19.446134   \n",
      "2020-01-12 14:59:58.467061+00:00  156146            13.587484   \n",
      "2020-01-12 15:00:29.788862+00:00  167675            45.514401   \n",
      "2020-01-12 15:00:29.788862+00:00  167684             9.507892   \n",
      "2020-01-12 15:00:30.292873+00:00  167817            35.807153   \n",
      "2020-01-12 15:00:30.292873+00:00  167820             5.411516   \n",
      "2020-01-12 15:02:33.840945+00:00  220208            22.226492   \n",
      "2020-01-12 15:02:54.486211+00:00  226135            22.312254   \n",
      "2020-01-12 15:02:54.486211+00:00  226186             5.863230   \n",
      "2020-01-12 15:03:57.643991+00:00  250933            20.090220   \n",
      "2020-01-12 15:05:08.111482+00:00  284235            44.366973   \n",
      "2020-01-12 15:06:01.734812+00:00  294212            25.407331   \n",
      "2020-01-12 15:06:01.734812+00:00  294219             5.170883   \n",
      "2020-01-12 15:06:26.567757+00:00  302217            21.792621   \n",
      "2020-01-12 15:08:23.239651+00:00  334411            21.200320   \n",
      "2020-01-12 15:08:23.239651+00:00  334465             3.908820   \n",
      "2020-01-12 15:09:51.010271+00:00  366290            27.221782   \n",
      "2020-01-12 15:11:00.685675+00:00  386622            18.018770   \n",
      "2020-01-12 15:11:40.130793+00:00  397312            19.576647   \n",
      "2020-01-12 15:13:23.222123+00:00  429843            37.678404   \n",
      "2020-01-12 15:13:23.222123+00:00  429886             3.908820   \n",
      "2020-01-12 15:13:27.987995+00:00  430913            34.943336   \n",
      "2020-01-12 15:13:46.011716+00:00  436649            30.860706   \n",
      "2020-01-12 15:13:46.011716+00:00  436672             5.863230   \n",
      "2020-01-12 15:13:46.263911+00:00  436703            41.413206   \n",
      "2020-01-12 15:13:46.263911+00:00  436716             4.370194   \n",
      "2020-01-12 15:14:03.547758+00:00  443480            22.792142   \n",
      "2020-01-12 15:14:03.547758+00:00  443520             4.918491   \n",
      "2020-01-12 15:14:26.632809+00:00  450588            43.409613   \n",
      "2020-01-12 15:14:26.632809+00:00  450606             4.787307   \n",
      "2020-01-12 15:14:26.632809+00:00  450641             4.787307   \n",
      "\n",
      "                                                   export name  \\\n",
      "timestamp                                                        \n",
      "2020-01-12 14:54:11.612182+00:00  D20200112T145411.612182-PN48   \n",
      "2020-01-12 14:55:14.773065+00:00  D20200112T145514.773065-PN17   \n",
      "2020-01-12 14:57:41.587618+00:00  D20200112T145741.587618-PN25   \n",
      "2020-01-12 14:57:41.587618+00:00  D20200112T145741.587618-PN55   \n",
      "2020-01-12 14:57:57.140313+00:00  D20200112T145757.140313-PN34   \n",
      "2020-01-12 14:58:00.652617+00:00  D20200112T145800.652617-PN26   \n",
      "2020-01-12 14:58:13.098460+00:00   D20200112T145813.098460-PN7   \n",
      "2020-01-12 14:58:13.098460+00:00  D20200112T145813.098460-PN34   \n",
      "2020-01-12 14:59:41.184114+00:00   D20200112T145941.184114-PN3   \n",
      "2020-01-12 14:59:58.467061+00:00   D20200112T145958.467061-PN6   \n",
      "2020-01-12 14:59:58.467061+00:00   D20200112T145958.467061-PN9   \n",
      "2020-01-12 15:00:29.788862+00:00   D20200112T150029.788862-PN8   \n",
      "2020-01-12 15:00:29.788862+00:00  D20200112T150029.788862-PN17   \n",
      "2020-01-12 15:00:30.292873+00:00  D20200112T150030.292873-PN46   \n",
      "2020-01-12 15:00:30.292873+00:00  D20200112T150030.292873-PN49   \n",
      "2020-01-12 15:02:33.840945+00:00  D20200112T150233.840945-PN57   \n",
      "2020-01-12 15:02:54.486211+00:00   D20200112T150254.486211-PN0   \n",
      "2020-01-12 15:02:54.486211+00:00  D20200112T150254.486211-PN51   \n",
      "2020-01-12 15:03:57.643991+00:00   D20200112T150357.643991-PN9   \n",
      "2020-01-12 15:05:08.111482+00:00  D20200112T150508.111482-PN10   \n",
      "2020-01-12 15:06:01.734812+00:00  D20200112T150601.734812-PN18   \n",
      "2020-01-12 15:06:01.734812+00:00  D20200112T150601.734812-PN25   \n",
      "2020-01-12 15:06:26.567757+00:00  D20200112T150626.567757-PN16   \n",
      "2020-01-12 15:08:23.239651+00:00   D20200112T150823.239651-PN7   \n",
      "2020-01-12 15:08:23.239651+00:00  D20200112T150823.239651-PN61   \n",
      "2020-01-12 15:09:51.010271+00:00  D20200112T150951.010271-PN78   \n",
      "2020-01-12 15:11:00.685675+00:00  D20200112T151100.685675-PN74   \n",
      "2020-01-12 15:11:40.130793+00:00  D20200112T151140.130793-PN51   \n",
      "2020-01-12 15:13:23.222123+00:00   D20200112T151323.222123-PN1   \n",
      "2020-01-12 15:13:23.222123+00:00  D20200112T151323.222123-PN44   \n",
      "2020-01-12 15:13:27.987995+00:00  D20200112T151327.987995-PN37   \n",
      "2020-01-12 15:13:46.011716+00:00  D20200112T151346.011716-PN30   \n",
      "2020-01-12 15:13:46.011716+00:00  D20200112T151346.011716-PN53   \n",
      "2020-01-12 15:13:46.263911+00:00  D20200112T151346.263911-PN29   \n",
      "2020-01-12 15:13:46.263911+00:00  D20200112T151346.263911-PN42   \n",
      "2020-01-12 15:14:03.547758+00:00  D20200112T151403.547758-PN12   \n",
      "2020-01-12 15:14:03.547758+00:00  D20200112T151403.547758-PN52   \n",
      "2020-01-12 15:14:26.632809+00:00  D20200112T151426.632809-PN43   \n",
      "2020-01-12 15:14:26.632809+00:00  D20200112T151426.632809-PN61   \n",
      "2020-01-12 15:14:26.632809+00:00  D20200112T151426.632809-PN96   \n",
      "\n",
      "                                  major_axis_length    maxc    maxr    minc  \\\n",
      "timestamp                                                                     \n",
      "2020-01-12 14:54:11.612182+00:00          51.883750  1783.0  1267.0  1767.0   \n",
      "2020-01-12 14:55:14.773065+00:00          56.464826   394.0   788.0   353.0   \n",
      "2020-01-12 14:57:41.587618+00:00          42.419505  1885.0   801.0  1863.0   \n",
      "2020-01-12 14:57:41.587618+00:00           7.132470   625.0  1339.0   617.0   \n",
      "2020-01-12 14:57:57.140313+00:00          60.919166  1955.0  1003.0  1945.0   \n",
      "2020-01-12 14:58:00.652617+00:00          44.735656   750.0   500.0   730.0   \n",
      "2020-01-12 14:58:13.098460+00:00         197.366069  1837.0   564.0  1656.0   \n",
      "2020-01-12 14:58:13.098460+00:00          26.980294   773.0  1158.0   754.0   \n",
      "2020-01-12 14:59:41.184114+00:00          42.661537   599.0   255.0   582.0   \n",
      "2020-01-12 14:59:58.467061+00:00          77.786485   481.0   213.0   437.0   \n",
      "2020-01-12 14:59:58.467061+00:00          34.870555   500.0   241.0   478.0   \n",
      "2020-01-12 15:00:29.788862+00:00          95.783537   633.0   537.0   533.0   \n",
      "2020-01-12 15:00:29.788862+00:00          14.556916   555.0   530.0   541.0   \n",
      "2020-01-12 15:00:30.292873+00:00          86.760560   758.0  1193.0   687.0   \n",
      "2020-01-12 15:00:30.292873+00:00           7.889826  1961.0  1227.0  1956.0   \n",
      "2020-01-12 15:02:33.840945+00:00          70.049464   373.0  1159.0   349.0   \n",
      "2020-01-12 15:02:54.486211+00:00          55.600409   395.0   165.0   354.0   \n",
      "2020-01-12 15:02:54.486211+00:00          11.123992   357.0  1274.0   352.0   \n",
      "2020-01-12 15:03:57.643991+00:00          40.490937   379.0   468.0   336.0   \n",
      "2020-01-12 15:05:08.111482+00:00         114.726071   567.0   503.0   496.0   \n",
      "2020-01-12 15:06:01.734812+00:00          47.212122   502.0   497.0   478.0   \n",
      "2020-01-12 15:06:01.734812+00:00           7.419483   385.0   613.0   377.0   \n",
      "2020-01-12 15:06:26.567757+00:00          59.285893  1957.0   603.0  1925.0   \n",
      "2020-01-12 15:08:23.239651+00:00          76.387548  1797.0   315.0  1750.0   \n",
      "2020-01-12 15:08:23.239651+00:00           5.790956  1958.0  1371.0  1954.0   \n",
      "2020-01-12 15:09:51.010271+00:00          63.248798  1780.0  1221.0  1743.0   \n",
      "2020-01-12 15:11:00.685675+00:00          54.624054  1903.0  1495.0  1892.0   \n",
      "2020-01-12 15:11:40.130793+00:00          49.853131  1919.0  1364.0  1897.0   \n",
      "2020-01-12 15:13:23.222123+00:00          68.760036  1945.0   256.0  1916.0   \n",
      "2020-01-12 15:13:23.222123+00:00           7.630595   369.0  1335.0   364.0   \n",
      "2020-01-12 15:13:27.987995+00:00          91.999813  1779.0   681.0  1740.0   \n",
      "2020-01-12 15:13:46.011716+00:00         105.043483  2010.0  1065.0  1979.0   \n",
      "2020-01-12 15:13:46.011716+00:00           7.775679   417.0  1583.0   412.0   \n",
      "2020-01-12 15:13:46.263911+00:00          84.619226   717.0   825.0   636.0   \n",
      "2020-01-12 15:13:46.263911+00:00           5.914097  1966.0  1101.0  1961.0   \n",
      "2020-01-12 15:14:03.547758+00:00          61.342669  1781.0   383.0  1765.0   \n",
      "2020-01-12 15:14:03.547758+00:00           6.431822   407.0  1048.0   400.0   \n",
      "2020-01-12 15:14:26.632809+00:00         123.018537   384.0   501.0   338.0   \n",
      "2020-01-12 15:14:26.632809+00:00          10.037823   384.0   456.0   381.0   \n",
      "2020-01-12 15:14:26.632809+00:00           7.097764   452.0   548.0   449.0   \n",
      "\n",
      "                                  minor_axis_length    minr  particle index  \\\n",
      "timestamp                                                                     \n",
      "2020-01-12 14:54:11.612182+00:00           8.225809  1222.0              48   \n",
      "2020-01-12 14:55:14.773065+00:00          10.059638   751.0              17   \n",
      "2020-01-12 14:57:41.587618+00:00          16.532739   758.0              25   \n",
      "2020-01-12 14:57:41.587618+00:00           5.309957  1334.0              55   \n",
      "2020-01-12 14:57:57.140313+00:00           5.785180   948.0              34   \n",
      "2020-01-12 14:58:00.652617+00:00          11.551697   458.0              26   \n",
      "2020-01-12 14:58:13.098460+00:00          49.688811   442.0               7   \n",
      "2020-01-12 14:58:13.098460+00:00           7.427311  1138.0              34   \n",
      "2020-01-12 14:59:41.184114+00:00           8.863646   214.0               3   \n",
      "2020-01-12 14:59:58.467061+00:00           6.662394   162.0               6   \n",
      "2020-01-12 14:59:58.467061+00:00           7.505088   215.0               9   \n",
      "2020-01-12 15:00:29.788862+00:00          34.854316   481.0               8   \n",
      "2020-01-12 15:00:29.788862+00:00          10.745223   516.0              17   \n",
      "2020-01-12 15:00:30.292873+00:00          21.672443  1144.0              46   \n",
      "2020-01-12 15:00:30.292873+00:00           4.548019  1219.0              49   \n",
      "2020-01-12 15:02:33.840945+00:00          10.715237  1096.0              57   \n",
      "2020-01-12 15:02:54.486211+00:00          17.857250   127.0               0   \n",
      "2020-01-12 15:02:54.486211+00:00           3.986124  1263.0              51   \n",
      "2020-01-12 15:03:57.643991+00:00          12.652441   444.0               9   \n",
      "2020-01-12 15:05:08.111482+00:00          24.562854   405.0              10   \n",
      "2020-01-12 15:06:01.734812+00:00          14.942698   454.0              18   \n",
      "2020-01-12 15:06:01.734812+00:00           6.162484   606.0              25   \n",
      "2020-01-12 15:06:26.567757+00:00          10.186789   551.0              16   \n",
      "2020-01-12 15:08:23.239651+00:00           7.386466   257.0               7   \n",
      "2020-01-12 15:08:23.239651+00:00           2.628550  1366.0              61   \n",
      "2020-01-12 15:09:51.010271+00:00          14.243155  1166.0              78   \n",
      "2020-01-12 15:11:00.685675+00:00           6.422182  1443.0              74   \n",
      "2020-01-12 15:11:40.130793+00:00           9.651366  1319.0              51   \n",
      "2020-01-12 15:13:23.222123+00:00          26.082252   182.0               1   \n",
      "2020-01-12 15:13:23.222123+00:00           2.356227  1329.0              44   \n",
      "2020-01-12 15:13:27.987995+00:00          18.689414   598.0              37   \n",
      "2020-01-12 15:13:46.011716+00:00          15.402151   966.0              30   \n",
      "2020-01-12 15:13:46.011716+00:00           4.564399  1575.0              53   \n",
      "2020-01-12 15:13:46.263911+00:00          21.750880   785.0              29   \n",
      "2020-01-12 15:13:46.263911+00:00           3.938572  1095.0              42   \n",
      "2020-01-12 15:14:03.547758+00:00           9.840720   314.0              12   \n",
      "2020-01-12 15:14:03.547758+00:00           4.469047  1042.0              52   \n",
      "2020-01-12 15:14:26.632809+00:00          31.705846   386.0              43   \n",
      "2020-01-12 15:14:26.632809+00:00           2.284166   447.0              61   \n",
      "2020-01-12 15:14:26.632809+00:00           3.093923   541.0              96   \n",
      "\n",
      "                                  probability_bubble  probability_copepod  \\\n",
      "timestamp                                                                   \n",
      "2020-01-12 14:54:11.612182+00:00        4.824999e-05         3.180939e-06   \n",
      "2020-01-12 14:55:14.773065+00:00        5.127275e-05         6.698353e-04   \n",
      "2020-01-12 14:57:41.587618+00:00        6.311262e-04         4.489746e-05   \n",
      "2020-01-12 14:57:41.587618+00:00        4.101265e-04         5.779223e-03   \n",
      "2020-01-12 14:57:57.140313+00:00        1.056948e-04         2.849616e-04   \n",
      "2020-01-12 14:58:00.652617+00:00        8.202488e-04         9.697345e-04   \n",
      "2020-01-12 14:58:13.098460+00:00        1.099494e-04         1.459304e-03   \n",
      "2020-01-12 14:58:13.098460+00:00        2.542110e-05         6.436649e-06   \n",
      "2020-01-12 14:59:41.184114+00:00        3.103409e-05         5.319298e-05   \n",
      "2020-01-12 14:59:58.467061+00:00        9.000654e-05         1.074754e-03   \n",
      "2020-01-12 14:59:58.467061+00:00        1.289725e-03         5.357788e-03   \n",
      "2020-01-12 15:00:29.788862+00:00        4.811568e-06         6.032106e-06   \n",
      "2020-01-12 15:00:29.788862+00:00        3.007785e-05         2.566360e-05   \n",
      "2020-01-12 15:00:30.292873+00:00        8.220598e-04         3.669407e-02   \n",
      "2020-01-12 15:00:30.292873+00:00        4.225646e-07         2.750166e-09   \n",
      "2020-01-12 15:02:33.840945+00:00        1.677537e-03         7.100065e-05   \n",
      "2020-01-12 15:02:54.486211+00:00        4.600760e-04         4.008998e-02   \n",
      "2020-01-12 15:02:54.486211+00:00        7.925855e-06         2.318881e-05   \n",
      "2020-01-12 15:03:57.643991+00:00        3.085815e-05         1.358613e-03   \n",
      "2020-01-12 15:05:08.111482+00:00        2.333028e-03         4.708619e-05   \n",
      "2020-01-12 15:06:01.734812+00:00        2.569238e-03         6.197214e-03   \n",
      "2020-01-12 15:06:01.734812+00:00        1.944914e-03         1.791096e-02   \n",
      "2020-01-12 15:06:26.567757+00:00        1.075076e-04         8.323177e-03   \n",
      "2020-01-12 15:08:23.239651+00:00        1.021705e-05         5.503351e-05   \n",
      "2020-01-12 15:08:23.239651+00:00        1.926786e-07         1.267876e-10   \n",
      "2020-01-12 15:09:51.010271+00:00        3.616788e-02         3.948311e-03   \n",
      "2020-01-12 15:11:00.685675+00:00        3.265587e-02         4.728974e-07   \n",
      "2020-01-12 15:11:40.130793+00:00        8.959914e-05         7.298665e-06   \n",
      "2020-01-12 15:13:23.222123+00:00        1.327170e-03         1.229099e-05   \n",
      "2020-01-12 15:13:23.222123+00:00        1.325853e-03         4.172712e-08   \n",
      "2020-01-12 15:13:27.987995+00:00        6.326946e-04         4.598463e-04   \n",
      "2020-01-12 15:13:46.011716+00:00        1.198126e-04         3.108396e-05   \n",
      "2020-01-12 15:13:46.011716+00:00        3.321182e-04         2.140475e-02   \n",
      "2020-01-12 15:13:46.263911+00:00        4.829210e-04         3.169021e-03   \n",
      "2020-01-12 15:13:46.263911+00:00        3.457060e-06         3.504405e-06   \n",
      "2020-01-12 15:14:03.547758+00:00        2.463444e-02         1.304113e-03   \n",
      "2020-01-12 15:14:03.547758+00:00        1.478262e-05         6.885014e-10   \n",
      "2020-01-12 15:14:26.632809+00:00        7.676334e-04         2.920628e-02   \n",
      "2020-01-12 15:14:26.632809+00:00        1.186235e-03         6.730734e-05   \n",
      "2020-01-12 15:14:26.632809+00:00        6.318844e-04         3.598919e-05   \n",
      "\n",
      "                                  probability_diatom_chain  \\\n",
      "timestamp                                                    \n",
      "2020-01-12 14:54:11.612182+00:00              4.938497e-09   \n",
      "2020-01-12 14:55:14.773065+00:00              2.282646e-04   \n",
      "2020-01-12 14:57:41.587618+00:00              3.134027e-09   \n",
      "2020-01-12 14:57:41.587618+00:00              3.000311e-05   \n",
      "2020-01-12 14:57:57.140313+00:00              3.159862e-09   \n",
      "2020-01-12 14:58:00.652617+00:00              1.748077e-09   \n",
      "2020-01-12 14:58:13.098460+00:00              1.613190e-06   \n",
      "2020-01-12 14:58:13.098460+00:00              1.710590e-08   \n",
      "2020-01-12 14:59:41.184114+00:00              2.910285e-13   \n",
      "2020-01-12 14:59:58.467061+00:00              1.467107e-05   \n",
      "2020-01-12 14:59:58.467061+00:00              7.548691e-06   \n",
      "2020-01-12 15:00:29.788862+00:00              3.839131e-14   \n",
      "2020-01-12 15:00:29.788862+00:00              2.498858e-06   \n",
      "2020-01-12 15:00:30.292873+00:00              3.770337e-07   \n",
      "2020-01-12 15:00:30.292873+00:00              1.422286e-10   \n",
      "2020-01-12 15:02:33.840945+00:00              5.623535e-10   \n",
      "2020-01-12 15:02:54.486211+00:00              6.592813e-12   \n",
      "2020-01-12 15:02:54.486211+00:00              8.338978e-05   \n",
      "2020-01-12 15:03:57.643991+00:00              8.445473e-11   \n",
      "2020-01-12 15:05:08.111482+00:00              1.131408e-16   \n",
      "2020-01-12 15:06:01.734812+00:00              7.142857e-06   \n",
      "2020-01-12 15:06:01.734812+00:00              4.683301e-05   \n",
      "2020-01-12 15:06:26.567757+00:00              1.863429e-08   \n",
      "2020-01-12 15:08:23.239651+00:00              1.761931e-07   \n",
      "2020-01-12 15:08:23.239651+00:00              5.073564e-09   \n",
      "2020-01-12 15:09:51.010271+00:00              7.311711e-08   \n",
      "2020-01-12 15:11:00.685675+00:00              2.566366e-07   \n",
      "2020-01-12 15:11:40.130793+00:00              1.046006e-06   \n",
      "2020-01-12 15:13:23.222123+00:00              2.502989e-09   \n",
      "2020-01-12 15:13:23.222123+00:00              2.079949e-09   \n",
      "2020-01-12 15:13:27.987995+00:00              5.079005e-05   \n",
      "2020-01-12 15:13:46.011716+00:00              9.955560e-09   \n",
      "2020-01-12 15:13:46.011716+00:00              3.578745e-05   \n",
      "2020-01-12 15:13:46.263911+00:00              1.342904e-06   \n",
      "2020-01-12 15:13:46.263911+00:00              1.017698e-07   \n",
      "2020-01-12 15:14:03.547758+00:00              1.329469e-05   \n",
      "2020-01-12 15:14:03.547758+00:00              2.206278e-09   \n",
      "2020-01-12 15:14:26.632809+00:00              3.916298e-07   \n",
      "2020-01-12 15:14:26.632809+00:00              8.175975e-04   \n",
      "2020-01-12 15:14:26.632809+00:00              6.699052e-06   \n",
      "\n",
      "                                  probability_faecal_pellets  probability_oil  \\\n",
      "timestamp                                                                       \n",
      "2020-01-12 14:54:11.612182+00:00                3.805238e-04     2.119524e-04   \n",
      "2020-01-12 14:55:14.773065+00:00                8.679480e-03     1.049505e-05   \n",
      "2020-01-12 14:57:41.587618+00:00                1.273187e-03     3.445644e-08   \n",
      "2020-01-12 14:57:41.587618+00:00                3.746731e-05     2.584772e-03   \n",
      "2020-01-12 14:57:57.140313+00:00                6.076513e-06     7.138386e-06   \n",
      "2020-01-12 14:58:00.652617+00:00                1.537277e-04     2.780894e-06   \n",
      "2020-01-12 14:58:13.098460+00:00                1.112904e-02     4.101865e-06   \n",
      "2020-01-12 14:58:13.098460+00:00                8.150352e-04     4.018475e-06   \n",
      "2020-01-12 14:59:41.184114+00:00                3.505922e-06     6.703941e-08   \n",
      "2020-01-12 14:59:58.467061+00:00                1.690855e-05     3.187727e-06   \n",
      "2020-01-12 14:59:58.467061+00:00                3.594124e-04     2.285681e-05   \n",
      "2020-01-12 15:00:29.788862+00:00                1.208125e-02     2.983564e-08   \n",
      "2020-01-12 15:00:29.788862+00:00                4.846404e-04     4.622843e-06   \n",
      "2020-01-12 15:00:30.292873+00:00                7.211811e-05     8.032872e-06   \n",
      "2020-01-12 15:00:30.292873+00:00                6.275850e-10     1.668085e-06   \n",
      "2020-01-12 15:02:33.840945+00:00                1.083157e-04     1.737418e-04   \n",
      "2020-01-12 15:02:54.486211+00:00                1.212886e-08     6.883087e-08   \n",
      "2020-01-12 15:02:54.486211+00:00                1.193545e-07     3.140883e-05   \n",
      "2020-01-12 15:03:57.643991+00:00                1.335576e-03     1.476923e-08   \n",
      "2020-01-12 15:05:08.111482+00:00                4.262017e-10     5.531012e-07   \n",
      "2020-01-12 15:06:01.734812+00:00                6.745138e-03     2.868840e-03   \n",
      "2020-01-12 15:06:01.734812+00:00                2.494654e-03     1.678220e-04   \n",
      "2020-01-12 15:06:26.567757+00:00                1.244329e-08     1.313237e-10   \n",
      "2020-01-12 15:08:23.239651+00:00                1.398403e-02     5.736693e-07   \n",
      "2020-01-12 15:08:23.239651+00:00                8.209895e-09     5.366772e-05   \n",
      "2020-01-12 15:09:51.010271+00:00                1.664999e-07     1.131598e-04   \n",
      "2020-01-12 15:11:00.685675+00:00                5.378860e-05     1.108041e-06   \n",
      "2020-01-12 15:11:40.130793+00:00                3.853694e-03     1.365191e-06   \n",
      "2020-01-12 15:13:23.222123+00:00                7.343599e-05     2.415780e-05   \n",
      "2020-01-12 15:13:23.222123+00:00                3.937588e-10     1.422165e-05   \n",
      "2020-01-12 15:13:27.987995+00:00                1.474705e-03     2.990267e-05   \n",
      "2020-01-12 15:13:46.011716+00:00                5.888058e-04     4.957447e-08   \n",
      "2020-01-12 15:13:46.011716+00:00                4.658489e-04     4.646986e-03   \n",
      "2020-01-12 15:13:46.263911+00:00                5.183178e-03     4.392507e-06   \n",
      "2020-01-12 15:13:46.263911+00:00                7.729849e-05     4.106900e-06   \n",
      "2020-01-12 15:14:03.547758+00:00                3.576453e-04     2.823393e-06   \n",
      "2020-01-12 15:14:03.547758+00:00                1.971100e-07     4.111871e-05   \n",
      "2020-01-12 15:14:26.632809+00:00                5.847657e-05     3.182050e-06   \n",
      "2020-01-12 15:14:26.632809+00:00                2.451117e-05     1.130778e-02   \n",
      "2020-01-12 15:14:26.632809+00:00                1.823522e-04     1.926661e-04   \n",
      "\n",
      "                                  probability_oily_gas  probability_other  \\\n",
      "timestamp                                                                   \n",
      "2020-01-12 14:54:11.612182+00:00          5.086699e-08           0.999356   \n",
      "2020-01-12 14:55:14.773065+00:00          1.503897e-04           0.990210   \n",
      "2020-01-12 14:57:41.587618+00:00          3.829462e-03           0.994221   \n",
      "2020-01-12 14:57:41.587618+00:00          7.105034e-04           0.990448   \n",
      "2020-01-12 14:57:57.140313+00:00          2.374686e-02           0.975849   \n",
      "2020-01-12 14:58:00.652617+00:00          8.851512e-06           0.998045   \n",
      "2020-01-12 14:58:13.098460+00:00          3.946686e-04           0.986901   \n",
      "2020-01-12 14:58:13.098460+00:00          2.867004e-03           0.996282   \n",
      "2020-01-12 14:59:41.184114+00:00          1.797268e-05           0.999894   \n",
      "2020-01-12 14:59:58.467061+00:00          1.998119e-04           0.998601   \n",
      "2020-01-12 14:59:58.467061+00:00          5.594247e-05           0.992907   \n",
      "2020-01-12 15:00:29.788862+00:00          1.798767e-05           0.987890   \n",
      "2020-01-12 15:00:29.788862+00:00          2.306956e-05           0.999429   \n",
      "2020-01-12 15:00:30.292873+00:00          1.708790e-03           0.960695   \n",
      "2020-01-12 15:00:30.292873+00:00          2.989191e-05           0.999968   \n",
      "2020-01-12 15:02:33.840945+00:00          2.215649e-09           0.997969   \n",
      "2020-01-12 15:02:54.486211+00:00          4.490096e-09           0.959450   \n",
      "2020-01-12 15:02:54.486211+00:00          1.775962e-05           0.999836   \n",
      "2020-01-12 15:03:57.643991+00:00          2.328060e-04           0.997042   \n",
      "2020-01-12 15:05:08.111482+00:00          9.608164e-09           0.997619   \n",
      "2020-01-12 15:06:01.734812+00:00          8.060313e-07           0.981612   \n",
      "2020-01-12 15:06:01.734812+00:00          1.452290e-03           0.975983   \n",
      "2020-01-12 15:06:26.567757+00:00          8.187896e-07           0.991568   \n",
      "2020-01-12 15:08:23.239651+00:00          1.841049e-04           0.985766   \n",
      "2020-01-12 15:08:23.239651+00:00          1.177425e-04           0.999828   \n",
      "2020-01-12 15:09:51.010271+00:00          5.449492e-08           0.959771   \n",
      "2020-01-12 15:11:00.685675+00:00          5.053469e-08           0.967289   \n",
      "2020-01-12 15:11:40.130793+00:00          3.251752e-08           0.996047   \n",
      "2020-01-12 15:13:23.222123+00:00          1.332151e-05           0.998550   \n",
      "2020-01-12 15:13:23.222123+00:00          4.284812e-02           0.955812   \n",
      "2020-01-12 15:13:27.987995+00:00          2.280766e-05           0.997329   \n",
      "2020-01-12 15:13:46.011716+00:00          3.425693e-05           0.999226   \n",
      "2020-01-12 15:13:46.011716+00:00          2.880816e-03           0.970234   \n",
      "2020-01-12 15:13:46.263911+00:00          1.282577e-03           0.989877   \n",
      "2020-01-12 15:13:46.263911+00:00          2.021372e-03           0.997890   \n",
      "2020-01-12 15:14:03.547758+00:00          2.651776e-04           0.973423   \n",
      "2020-01-12 15:14:03.547758+00:00          1.622962e-02           0.983714   \n",
      "2020-01-12 15:14:26.632809+00:00          2.624496e-07           0.969964   \n",
      "2020-01-12 15:14:26.632809+00:00          1.070531e-03           0.985526   \n",
      "2020-01-12 15:14:26.632809+00:00          7.312006e-05           0.998877   \n",
      "\n",
      "                                  saturation  solidity  highest prob  \n",
      "timestamp                                                             \n",
      "2020-01-12 14:54:11.612182+00:00    0.115973  0.518950      0.999356  \n",
      "2020-01-12 14:55:14.773065+00:00    0.114844  0.431579      0.990210  \n",
      "2020-01-12 14:57:41.587618+00:00    0.139287  0.438792      0.994221  \n",
      "2020-01-12 14:57:41.587618+00:00    0.139287  0.935484      0.990448  \n",
      "2020-01-12 14:57:57.140313+00:00    0.148188  0.426702      0.975849  \n",
      "2020-01-12 14:58:00.652617+00:00    0.369972  0.584071      0.998045  \n",
      "2020-01-12 14:58:13.098460+00:00    0.582324  0.757156      0.986901  \n",
      "2020-01-12 14:58:13.098460+00:00    0.582324  0.800000      0.996282  \n",
      "2020-01-12 14:59:41.184114+00:00    0.378806  0.788856      0.999894  \n",
      "2020-01-12 14:59:58.467061+00:00    0.150778  0.621339      0.998601  \n",
      "2020-01-12 14:59:58.467061+00:00    0.150778  0.622318      0.992907  \n",
      "2020-01-12 15:00:29.788862+00:00    0.342008  0.506065      0.987890  \n",
      "2020-01-12 15:00:29.788862+00:00    0.342008  0.568000      0.999429  \n",
      "2020-01-12 15:00:30.292873+00:00    0.165126  0.718260      0.960695  \n",
      "2020-01-12 15:00:30.292873+00:00    0.165126  0.793103      0.999968  \n",
      "2020-01-12 15:02:33.840945+00:00    0.569305  0.530055      0.997969  \n",
      "2020-01-12 15:02:54.486211+00:00    0.161672  0.515831      0.959450  \n",
      "2020-01-12 15:02:54.486211+00:00    0.161672  0.658537      0.999836  \n",
      "2020-01-12 15:03:57.643991+00:00    0.560869  0.632735      0.997042  \n",
      "2020-01-12 15:05:08.111482+00:00    0.404046  0.662099      0.997619  \n",
      "2020-01-12 15:06:01.734812+00:00    0.254796  0.854975      0.981612  \n",
      "2020-01-12 15:06:01.734812+00:00    0.254796  0.677419      0.975983  \n",
      "2020-01-12 15:06:26.567757+00:00    0.332842  0.639794      0.991568  \n",
      "2020-01-12 15:08:23.239651+00:00    0.145598  0.558544      0.985766  \n",
      "2020-01-12 15:08:23.239651+00:00    0.145598  0.923077      0.999828  \n",
      "2020-01-12 15:09:51.010271+00:00    0.369507  0.659117      0.959771  \n",
      "2020-01-12 15:11:00.685675+00:00    0.330318  0.752212      0.967289  \n",
      "2020-01-12 15:11:40.130793+00:00    0.171436  0.677928      0.996047  \n",
      "2020-01-12 15:13:23.222123+00:00    0.184787  0.711551      0.998550  \n",
      "2020-01-12 15:13:23.222123+00:00    0.184787  0.800000      0.955812  \n",
      "2020-01-12 15:13:27.987995+00:00    0.388371  0.568802      0.997329  \n",
      "2020-01-12 15:13:46.011716+00:00    0.553563  0.507807      0.999226  \n",
      "2020-01-12 15:13:46.011716+00:00    0.553563  0.931034      0.970234  \n",
      "2020-01-12 15:13:46.263911+00:00    0.293387  0.827396      0.989877  \n",
      "2020-01-12 15:13:46.263911+00:00    0.293387  0.789474      0.997890  \n",
      "2020-01-12 15:14:03.547758+00:00    0.186580  0.740472      0.973423  \n",
      "2020-01-12 15:14:03.547758+00:00    0.186580  0.791667      0.983714  \n",
      "2020-01-12 15:14:26.632809+00:00    1.267735  0.452876      0.969964  \n",
      "2020-01-12 15:14:26.632809+00:00    1.267735  0.857143      0.985526  \n"
     ]
    },
    {
     "name": "stdout",
     "output_type": "stream",
     "text": [
      "2020-01-12 15:14:26.632809+00:00    1.267735  1.000000      0.998877  \n"
     ]
    }
   ],
   "source": [
    "print(df_extract.shape)\n",
    "scenes = []\n",
    "for f in df_extract['export name'].tolist():\n",
    "    n = f.split('-')[0]\n",
    "    if n not in scenes: \n",
    "        scenes.append(n)\n",
    "print(len(scenes))\n",
    "silc_to_bmp(scenes, RAWDIR, RAWBMP)\n",
    "print(df_extract)"
   ]
  },
  {
   "cell_type": "code",
   "execution_count": 22,
   "metadata": {},
   "outputs": [
    {
     "name": "stdout",
     "output_type": "stream",
     "text": [
      "####### stat_comb ######\n",
      "                                    index  equivalent_diameter  \\\n",
      "timestamp                                                        \n",
      "2020-04-23 10:33:27.892945+00:00   641427             7.653040   \n",
      "2020-04-23 11:18:51.909500+00:00   990164            10.092530   \n",
      "2020-04-23 13:18:25.448647+00:00  1497213             5.292567   \n",
      "\n",
      "                                                  export name  \\\n",
      "timestamp                                                       \n",
      "2020-04-23 10:33:27.892945+00:00  D20200423T103327.892945-PN0   \n",
      "2020-04-23 11:18:51.909500+00:00  D20200423T111851.909500-PN0   \n",
      "2020-04-23 13:18:25.448647+00:00  D20200423T131825.448647-PN0   \n",
      "\n",
      "                                  major_axis_length    maxc   maxr    minc  \\\n",
      "timestamp                                                                    \n",
      "2020-04-23 10:33:27.892945+00:00           8.937106  2135.0   79.0  2127.0   \n",
      "2020-04-23 11:18:51.909500+00:00          16.590473  2052.0   85.0  2044.0   \n",
      "2020-04-23 13:18:25.448647+00:00           6.460729   349.0  115.0   342.0   \n",
      "\n",
      "                                  minor_axis_length   minr  particle index  \\\n",
      "timestamp                                                                    \n",
      "2020-04-23 10:33:27.892945+00:00           6.888223   69.0               0   \n",
      "2020-04-23 11:18:51.909500+00:00           6.709040   68.0               0   \n",
      "2020-04-23 13:18:25.448647+00:00           4.873047  110.0               0   \n",
      "\n",
      "                                   ...        Rpm  Salinity  Temperature  \\\n",
      "timestamp                          ...                                     \n",
      "2020-04-23 10:33:27.892945+00:00   ...     1131.0    32.128        6.004   \n",
      "2020-04-23 11:18:51.909500+00:00   ...     1405.0    27.186        6.872   \n",
      "2020-04-23 13:18:25.448647+00:00   ...        NaN       NaN          NaN   \n",
      "\n",
      "                                  Turbidity  WaterDensity      wv_x      wv_y  \\\n",
      "timestamp                                                                       \n",
      "2020-04-23 10:33:27.892945+00:00    557.143      1025.341  1.300044 -0.038630   \n",
      "2020-04-23 11:18:51.909500+00:00    428.571      1021.298  1.528275 -0.022324   \n",
      "2020-04-23 13:18:25.448647+00:00        NaN           NaN       NaN       NaN   \n",
      "\n",
      "                                      wv_z                file name  partind  \n",
      "timestamp                                                                     \n",
      "2020-04-23 10:33:27.892945+00:00 -0.081150  D20200423T103327.892945      PN0  \n",
      "2020-04-23 11:18:51.909500+00:00 -0.108958  D20200423T111851.909500      PN0  \n",
      "2020-04-23 13:18:25.448647+00:00       NaN  D20200423T131825.448647      PN0  \n",
      "\n",
      "[3 rows x 55 columns]\n",
      "####### new_stat ######\n",
      "<bound method NDFrame.head of                                     index  equivalent_diameter  \\\n",
      "timestamp                                                        \n",
      "2020-04-23 10:33:27.892945+00:00   641427             7.653040   \n",
      "2020-04-23 11:18:51.909500+00:00   990164            10.092530   \n",
      "2020-04-23 13:18:25.448647+00:00  1497213             5.292567   \n",
      "\n",
      "                                                  export name  \\\n",
      "timestamp                                                       \n",
      "2020-04-23 10:33:27.892945+00:00  D20200423T103327.892945-PN0   \n",
      "2020-04-23 11:18:51.909500+00:00  D20200423T111851.909500-PN0   \n",
      "2020-04-23 13:18:25.448647+00:00  D20200423T131825.448647-PN0   \n",
      "\n",
      "                                  major_axis_length    maxc   maxr    minc  \\\n",
      "timestamp                                                                    \n",
      "2020-04-23 10:33:27.892945+00:00           8.937106  2135.0   79.0  2127.0   \n",
      "2020-04-23 11:18:51.909500+00:00          16.590473  2052.0   85.0  2044.0   \n",
      "2020-04-23 13:18:25.448647+00:00           6.460729   349.0  115.0   342.0   \n",
      "\n",
      "                                  minor_axis_length   minr  particle index  \\\n",
      "timestamp                                                                    \n",
      "2020-04-23 10:33:27.892945+00:00           6.888223   69.0               0   \n",
      "2020-04-23 11:18:51.909500+00:00           6.709040   68.0               0   \n",
      "2020-04-23 13:18:25.448647+00:00           4.873047  110.0               0   \n",
      "\n",
      "                                   ...        Rpm  Salinity  Temperature  \\\n",
      "timestamp                          ...                                     \n",
      "2020-04-23 10:33:27.892945+00:00   ...     1131.0    32.128        6.004   \n",
      "2020-04-23 11:18:51.909500+00:00   ...     1405.0    27.186        6.872   \n",
      "2020-04-23 13:18:25.448647+00:00   ...        NaN       NaN          NaN   \n",
      "\n",
      "                                  Turbidity  WaterDensity      wv_x      wv_y  \\\n",
      "timestamp                                                                       \n",
      "2020-04-23 10:33:27.892945+00:00    557.143      1025.341  1.300044 -0.038630   \n",
      "2020-04-23 11:18:51.909500+00:00    428.571      1021.298  1.528275 -0.022324   \n",
      "2020-04-23 13:18:25.448647+00:00        NaN           NaN       NaN       NaN   \n",
      "\n",
      "                                      wv_z                file name  partind  \n",
      "timestamp                                                                     \n",
      "2020-04-23 10:33:27.892945+00:00 -0.081150  D20200423T103327.892945      PN0  \n",
      "2020-04-23 11:18:51.909500+00:00 -0.108958  D20200423T111851.909500      PN0  \n",
      "2020-04-23 13:18:25.448647+00:00       NaN  D20200423T131825.448647      PN0  \n",
      "\n",
      "[3 rows x 55 columns]>\n",
      "Index(['index', 'equivalent_diameter', 'export name', 'major_axis_length',\n",
      "       'maxc', 'maxr', 'minc', 'minor_axis_length', 'minr', 'particle index',\n",
      "       'probability_bubble', 'probability_copepod', 'probability_diatom_chain',\n",
      "       'probability_faecal_pellets', 'probability_oil', 'probability_oily_gas',\n",
      "       'probability_other', 'saturation', 'solidity', 'highest prob',\n",
      "       'AirSaturation', 'Chlorophyll', 'Conductivity', 'DissolvedOxygen',\n",
      "       'lat', 'lon', 'height', 'x', 'y', 'z', 'phi', 'theta', 'psi', 'u', 'v',\n",
      "       'w', 'vx', 'vy', 'vz', 'p', 'q', 'r', 'depth', 'alt', 'Pressure', 'Rpm',\n",
      "       'Salinity', 'Temperature', 'Turbidity', 'WaterDensity', 'wv_x', 'wv_y',\n",
      "       'wv_z', 'file name', 'partind'],\n",
      "      dtype='object')\n",
      "Creation of the directory F:/AILARON/Fieldwork/2020-04-AlgaeBloom/lauv-roald/2020-04-23/RawSpeeds030_10000 failed\n",
      "conversion completed!\n",
      "####### new_stat again ######\n",
      "                                                file name   depth     Rpm  \\\n",
      "timestamp                                                                   \n",
      "2020-04-23 10:33:27.892945+00:00  D20200423T103327.892945  12.083  1131.0   \n",
      "2020-04-23 11:18:51.909500+00:00  D20200423T111851.909500   2.661  1405.0   \n",
      "2020-04-23 13:18:25.448647+00:00  D20200423T131825.448647     NaN     NaN   \n",
      "\n",
      "                                      wv_x  \n",
      "timestamp                                   \n",
      "2020-04-23 10:33:27.892945+00:00  1.300044  \n",
      "2020-04-23 11:18:51.909500+00:00  1.528275  \n",
      "2020-04-23 13:18:25.448647+00:00       NaN  \n"
     ]
    },
    {
     "data": {
      "image/png": "[encoded data removed]",
      "text/plain": [
       "<Figure size 792x648 with 3 Axes>"
      ]
     },
     "metadata": {
      "needs_background": "light"
     },
     "output_type": "display_data"
    }
   ],
   "source": [
    "RAWSPEEDBMP = \"F:/AILARON/Fieldwork/2020-04-AlgaeBloom/lauv-roald/2020-04-23/RawSpeeds03\"\n",
    "# D20200423T103327.892945  -- 1.258843m/s     -- 1337   rpm      -- April mission (1)\n",
    "# D20200423T111851.909500  -- 1.516541m/s     -- 1337   rpm      -- April mission (2)\n",
    "# D20200423T131825.448647  -- 1.945775m/s     -- 1330.5 rpm    -- April mission (3)\n",
    "speed_int = [0,10000]\n",
    "scenes = ['D20200423T103327.892945', 'D20200423T111851.909500', 'D20200423T131825.448647']\n",
    "new_stat = stat_comb.loc[sum([stat_comb['export name'].str.contains(f) for f in scenes]) > 0]\n",
    "print(\"####### stat_comb ######\")\n",
    "print(stat_comb.loc[sum([stat_comb['export name'].str.contains(f) for f in scenes]) > 0])\n",
    "print(\"####### new_stat ######\")\n",
    "print(new_stat.head)\n",
    "if len(new_stat) > 0:\n",
    "    #new_stat = new_stat.reset_index()\n",
    "    #stat.set_index('timestamp', inplace=True)\n",
    "    #new_stat = new_stat.tz_localize('UTC')\n",
    "    #new_stat.index = new_stat.index.tz_convert(tz='UTC')\n",
    "    #new_stat = new_stat.reset_index()\n",
    "    print(new_stat.columns)\n",
    "    silc_to_bmp(new_stat['file name'].tolist(), RAWDIR, RAWSPEEDBMP + str(speed_int[0]) + '_' + str(speed_int[1]))\n",
    "    new_stat[['file name', 'depth', 'Rpm', 'wv_x']].to_csv(RAWSPEEDBMP + str(speed_int[0]) + '_' + str(speed_int[1]) \n",
    "                    + '/'\n",
    "                    + 'RAWSPEEDBMP' + str(speed_int[0]) + '_' + str(speed_int[1]) + '.csv'\n",
    "                    , index = True, header=True)\n",
    "    print(\"####### new_stat again ######\")\n",
    "    print(new_stat[['file name', 'depth', 'Rpm', 'wv_x']])\n",
    "    cols_plot = ['depth', 'Rpm', 'wv_x']\n",
    "    new_stat[cols_plot].plot(marker='.', alpha=0.5, linestyle='None', figsize=(11, 9), subplots=True)\n",
    "\n",
    "else: \n",
    "    print('couldn\\'t find images for Rpm between {0} and {1}'.format(str(speed_int[0]), str(speed_int[1])))\n",
    "    "
   ]
  },
  {
   "cell_type": "code",
   "execution_count": null,
   "metadata": {},
   "outputs": [],
   "source": [
    "RAWSPEEDBMP = \"F:/AILARON/Fieldwork/2020-04-AlgaeBloom/lauv-roald/2020-04-23/RawSpeeds\"\n",
    "speed_int = [0, 3000]\n",
    "new_stat = get_raw_speed(stat_comb, scenes, speed_int, RAWDIR, RAWSPEEDBMP)\n",
    "\n",
    "if len(new_stat) > 0:\n",
    "    silc_to_bmp(new_stat['file name'].tolist(), RAWDIR, RAWSPEEDBMP + str(speed_int[0]) + '_' + str(speed_int[1]))\n",
    "    new_stat.to_csv(RAWSPEEDBMP + str(speed_int[0]) + '_' + str(speed_int[1]) \n",
    "                    + '/'\n",
    "                    + 'RAWSPEEDBMP' + str(speed_int[0]) + '_' + str(speed_int[1]) + '.csv'\n",
    "                    , index = False, header=True)\n",
    "else: \n",
    "    print('couldn\\'t find images for Rpm between {0} and {1}'.format(str(speed_int[0]), str(speed_int[1])))"
   ]
  }
 ],
 "metadata": {
  "kernelspec": {
   "display_name": "Python [conda env:silcamfw]",
   "language": "python",
   "name": "conda-env-silcamfw-py"
  },
  "language_info": {
   "codemirror_mode": {
    "name": "ipython",
    "version": 3
   },
   "file_extension": ".py",
   "mimetype": "text/x-python",
   "name": "python",
   "nbconvert_exporter": "python",
   "pygments_lexer": "ipython3",
   "version": "3.5.6"
  }
 },
 "nbformat": 4,
 "nbformat_minor": 4
}
